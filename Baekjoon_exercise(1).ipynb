{
  "nbformat": 4,
  "nbformat_minor": 0,
  "metadata": {
    "colab": {
      "provenance": [],
      "authorship_tag": "ABX9TyNJKJnYgluT+C/G91yu0YhT",
      "include_colab_link": true
    },
    "kernelspec": {
      "name": "python3",
      "display_name": "Python 3"
    },
    "language_info": {
      "name": "python"
    }
  },
  "cells": [
    {
      "cell_type": "markdown",
      "metadata": {
        "id": "view-in-github",
        "colab_type": "text"
      },
      "source": [
        "<a href=\"https://colab.research.google.com/github/Doa-ddaram/baekjoon-exercise/blob/main/Baekjoon_exercise(1).ipynb\" target=\"_parent\"><img src=\"https://colab.research.google.com/assets/colab-badge.svg\" alt=\"Open In Colab\"/></a>"
      ]
    },
    {
      "cell_type": "code",
      "execution_count": null,
      "metadata": {
        "colab": {
          "base_uri": "https://localhost:8080/"
        },
        "id": "Ixc-m0aO5Ifg",
        "outputId": "e6c0b9cd-5001-43d2-e134-da2958e15d6f"
      },
      "outputs": [
        {
          "output_type": "stream",
          "name": "stdout",
          "text": [
            "hello world\n"
          ]
        }
      ],
      "source": [
        "print(\"hello world\")"
      ]
    },
    {
      "cell_type": "code",
      "source": [
        "# for i in range(a, 0, -1):         \n",
        "#   print('*' * i)"
      ],
      "metadata": {
        "colab": {
          "base_uri": "https://localhost:8080/"
        },
        "id": "tMcnhucV5caM",
        "outputId": "76f1e47b-893d-4785-be18-6e8c7e67fd06"
      },
      "execution_count": null,
      "outputs": [
        {
          "output_type": "stream",
          "name": "stdout",
          "text": [
            "***\n",
            "**\n",
            "*\n"
          ]
        }
      ]
    },
    {
      "cell_type": "code",
      "source": [
        "import sys                                            #2440번 완성본\n",
        "a = int(input())                        \n",
        "for i in range(a, 0, -1):\n",
        "  print('*' * i)"
      ],
      "metadata": {
        "colab": {
          "base_uri": "https://localhost:8080/"
        },
        "id": "OtBwBx0s5pjy",
        "outputId": "7e3b8cdd-1776-4276-fbed-070e8fede1af"
      },
      "execution_count": null,
      "outputs": [
        {
          "output_type": "stream",
          "name": "stdout",
          "text": [
            "5\n",
            "*****\n",
            "****\n",
            "***\n",
            "**\n",
            "*\n"
          ]
        }
      ]
    },
    {
      "cell_type": "code",
      "source": [
        "a, b = map(int, input().split())                      #1000번 완성본\n",
        "print(a+b)"
      ],
      "metadata": {
        "colab": {
          "base_uri": "https://localhost:8080/"
        },
        "id": "jkjwVSys6eoa",
        "outputId": "ae1db470-226b-4efa-85e4-b57f97134aee"
      },
      "execution_count": null,
      "outputs": [
        {
          "output_type": "stream",
          "name": "stdout",
          "text": [
            "3 4\n",
            "7\n"
          ]
        }
      ]
    },
    {
      "cell_type": "code",
      "source": [
        "a=int(input())                                        #2558번 완성본\n",
        "b=int(input())\n",
        "print(a+b)"
      ],
      "metadata": {
        "colab": {
          "base_uri": "https://localhost:8080/"
        },
        "id": "dfQnS95a6ywZ",
        "outputId": "1b2f6da6-64e2-4a91-ce7e-13084efc95b4"
      },
      "execution_count": null,
      "outputs": [
        {
          "output_type": "stream",
          "name": "stdout",
          "text": [
            "3\n",
            "4\n",
            "7\n"
          ]
        }
      ]
    },
    {
      "cell_type": "code",
      "source": [
        "a, b = map(int, input().split())                        #2163번 완성본\n",
        "print(a * b - 1)"
      ],
      "metadata": {
        "colab": {
          "base_uri": "https://localhost:8080/"
        },
        "id": "ilqmtJVb7OaS",
        "outputId": "076e1b45-8106-45a6-dfcc-e57be9c4c72e"
      },
      "execution_count": null,
      "outputs": [
        {
          "output_type": "stream",
          "name": "stdout",
          "text": [
            "4 3\n",
            "2\n"
          ]
        }
      ]
    },
    {
      "cell_type": "code",
      "source": [
        "import datetime                                         #10699번 완성본\n",
        "a = datetime.datetime.now()\n",
        "if a.hour < 15:\n",
        "  print(a.strftime('%Y-%m-%d'))\n",
        "else:\n",
        "  print(a.strftime('%Y-%m-(%d+1)'))"
      ],
      "metadata": {
        "colab": {
          "base_uri": "https://localhost:8080/"
        },
        "id": "4HyhfpHF-q4a",
        "outputId": "a8e24b65-ca55-40ef-8c0a-44637a83ba4e"
      },
      "execution_count": null,
      "outputs": [
        {
          "output_type": "stream",
          "name": "stdout",
          "text": [
            "2022-09-09\n",
            "2022-09-09\n"
          ]
        }
      ]
    },
    {
      "cell_type": "code",
      "source": [],
      "metadata": {
        "colab": {
          "base_uri": "https://localhost:8080/",
          "height": 180
        },
        "id": "Cs_xINzg-uKH",
        "outputId": "cc47bfc0-290b-482a-c1cf-d62f4e2e0693"
      },
      "execution_count": null,
      "outputs": [
        {
          "output_type": "error",
          "ename": "NameError",
          "evalue": "ignored",
          "traceback": [
            "\u001b[0;31m---------------------------------------------------------------------------\u001b[0m",
            "\u001b[0;31mNameError\u001b[0m                                 Traceback (most recent call last)",
            "\u001b[0;32m<ipython-input-32-808d7eaa85fa>\u001b[0m in \u001b[0;36m<module>\u001b[0;34m\u001b[0m\n\u001b[0;32m----> 1\u001b[0;31m \u001b[0ma\u001b[0m\u001b[0;34m=\u001b[0m \u001b[0mdate\u001b[0m\u001b[0;34m(\u001b[0m\u001b[0;34m)\u001b[0m\u001b[0;34m\u001b[0m\u001b[0;34m\u001b[0m\u001b[0m\n\u001b[0m",
            "\u001b[0;31mNameError\u001b[0m: name 'date' is not defined"
          ]
        }
      ]
    },
    {
      "cell_type": "code",
      "source": [
        "# 120 % 60"
      ],
      "metadata": {
        "id": "vLFwbrq0_LAI",
        "colab": {
          "base_uri": "https://localhost:8080/"
        },
        "outputId": "ef5f0e3c-0a57-4b59-805f-c220e12ec18a"
      },
      "execution_count": null,
      "outputs": [
        {
          "output_type": "execute_result",
          "data": {
            "text/plain": [
              "0"
            ]
          },
          "metadata": {},
          "execution_count": 49
        }
      ]
    },
    {
      "cell_type": "code",
      "source": [
        "# 50 % 60"
      ],
      "metadata": {
        "colab": {
          "base_uri": "https://localhost:8080/"
        },
        "id": "lfYFupBcJlm7",
        "outputId": "8ee01ace-427a-41a0-dd30-911af948e8f2"
      },
      "execution_count": null,
      "outputs": [
        {
          "output_type": "execute_result",
          "data": {
            "text/plain": [
              "50"
            ]
          },
          "metadata": {},
          "execution_count": 50
        }
      ]
    },
    {
      "cell_type": "code",
      "source": [
        "a, b = map(int,input().split())                       #2525번 완성본\n",
        "c = int(input())\n",
        "a += (b + c) // 60\n",
        "if a >= 24:\n",
        "  print((a-24), ((b+c)%60))\n",
        "else : \n",
        "  print(a, (b+c) % 60)"
      ],
      "metadata": {
        "colab": {
          "base_uri": "https://localhost:8080/"
        },
        "id": "MszQ8kBUJxhR",
        "outputId": "30cf547e-7b68-4419-da54-592c20299a55"
      },
      "execution_count": null,
      "outputs": [
        {
          "output_type": "stream",
          "name": "stdout",
          "text": [
            "17 40\n",
            "50\n",
            "18 30\n"
          ]
        }
      ]
    },
    {
      "cell_type": "code",
      "source": [
        "a, b, c = map(int, input().split())                 #2530번 완성본\n",
        "inp = int(input())\n",
        "all = a * 3600 + b * 60 + c + inp\n",
        "print(all//3600 % 24, all // 60 % 60 , all % 60)\n"
      ],
      "metadata": {
        "colab": {
          "base_uri": "https://localhost:8080/"
        },
        "id": "CWQbB1oEKYVs",
        "outputId": "46ffb823-cb65-4dc7-b548-12a5c500e169"
      },
      "execution_count": null,
      "outputs": [
        {
          "output_type": "stream",
          "name": "stdout",
          "text": [
            "10 10 10\n",
            "72000\n",
            "6 10 10\n"
          ]
        }
      ]
    },
    {
      "cell_type": "code",
      "source": [
        "a, b = map(int,input().split())                    #2914번 완성본\n",
        "print(a * (b-1) + 1)"
      ],
      "metadata": {
        "colab": {
          "base_uri": "https://localhost:8080/"
        },
        "id": "rS7sJmKlSkly",
        "outputId": "9e297095-cf94-41c2-ea7e-cba28704111a"
      },
      "execution_count": null,
      "outputs": [
        {
          "output_type": "stream",
          "name": "stdout",
          "text": [
            "10 10\n",
            "91\n"
          ]
        }
      ]
    },
    {
      "cell_type": "code",
      "source": [
        "# b = 3.0\n",
        "# print(\"%.2lf\" %b)"
      ],
      "metadata": {
        "colab": {
          "base_uri": "https://localhost:8080/"
        },
        "id": "y6WYPAt5XwNR",
        "outputId": "1a9919d9-2029-4584-afab-8654cd87e60a"
      },
      "execution_count": null,
      "outputs": [
        {
          "output_type": "stream",
          "name": "stdout",
          "text": [
            "3.00\n"
          ]
        }
      ]
    },
    {
      "cell_type": "code",
      "source": [
        "import sys                                            #5355번 완성본\n",
        "n = int(sys.stdin.readline())\n",
        "for i in range(0,n):\n",
        "  L = list(input().split())\n",
        "  k = float(L[0])\n",
        "  for j in range(1,len(L)):\n",
        "    if L[j] == '@':\n",
        "      k *= 3\n",
        "    elif L[j] == '#':\n",
        "      k -= 7\n",
        "    elif L[j] == '%':\n",
        "      k += 5\n",
        "  print('%.2lf' %k)"
      ],
      "metadata": {
        "colab": {
          "base_uri": "https://localhost:8080/",
          "height": 256
        },
        "id": "IbtxsfIBXXTf",
        "outputId": "5ca13737-1465-4ff1-8169-954e7fbec8a0"
      },
      "execution_count": null,
      "outputs": [
        {
          "output_type": "error",
          "ename": "ValueError",
          "evalue": "ignored",
          "traceback": [
            "\u001b[0;31m---------------------------------------------------------------------------\u001b[0m",
            "\u001b[0;31mValueError\u001b[0m                                Traceback (most recent call last)",
            "\u001b[0;32m<ipython-input-77-9bfc48a955cb>\u001b[0m in \u001b[0;36m<module>\u001b[0;34m\u001b[0m\n\u001b[1;32m      1\u001b[0m \u001b[0;32mimport\u001b[0m \u001b[0msys\u001b[0m\u001b[0;34m\u001b[0m\u001b[0;34m\u001b[0m\u001b[0m\n\u001b[0;32m----> 2\u001b[0;31m \u001b[0mn\u001b[0m \u001b[0;34m=\u001b[0m \u001b[0mint\u001b[0m\u001b[0;34m(\u001b[0m\u001b[0msys\u001b[0m\u001b[0;34m.\u001b[0m\u001b[0mstdin\u001b[0m\u001b[0;34m.\u001b[0m\u001b[0mreadline\u001b[0m\u001b[0;34m(\u001b[0m\u001b[0;34m)\u001b[0m\u001b[0;34m)\u001b[0m\u001b[0;34m\u001b[0m\u001b[0;34m\u001b[0m\u001b[0m\n\u001b[0m\u001b[1;32m      3\u001b[0m \u001b[0;32mfor\u001b[0m \u001b[0mi\u001b[0m \u001b[0;32min\u001b[0m \u001b[0mrange\u001b[0m\u001b[0;34m(\u001b[0m\u001b[0;36m0\u001b[0m\u001b[0;34m,\u001b[0m\u001b[0mn\u001b[0m\u001b[0;34m)\u001b[0m\u001b[0;34m:\u001b[0m\u001b[0;34m\u001b[0m\u001b[0;34m\u001b[0m\u001b[0m\n\u001b[1;32m      4\u001b[0m   \u001b[0mL\u001b[0m \u001b[0;34m=\u001b[0m \u001b[0mlist\u001b[0m\u001b[0;34m(\u001b[0m\u001b[0minput\u001b[0m\u001b[0;34m(\u001b[0m\u001b[0;34m)\u001b[0m\u001b[0;34m.\u001b[0m\u001b[0msplit\u001b[0m\u001b[0;34m(\u001b[0m\u001b[0;34m)\u001b[0m\u001b[0;34m)\u001b[0m\u001b[0;34m\u001b[0m\u001b[0;34m\u001b[0m\u001b[0m\n\u001b[1;32m      5\u001b[0m   \u001b[0mk\u001b[0m \u001b[0;34m=\u001b[0m \u001b[0mfloat\u001b[0m\u001b[0;34m(\u001b[0m\u001b[0mL\u001b[0m\u001b[0;34m[\u001b[0m\u001b[0;36m0\u001b[0m\u001b[0;34m]\u001b[0m\u001b[0;34m)\u001b[0m\u001b[0;34m\u001b[0m\u001b[0;34m\u001b[0m\u001b[0m\n",
            "\u001b[0;31mValueError\u001b[0m: invalid literal for int() with base 10: ''"
          ]
        }
      ]
    },
    {
      "cell_type": "code",
      "source": [
        "# L = ['3', '@','#']\n",
        "# t = 3\n",
        "# for j in range(1,len(L)):\n",
        "#   if L[j] == '@':\n",
        "#     k *= 3\n",
        "#   if L[j] == '#':\n",
        "#     k -= 7\n",
        "# print(t)\n"
      ],
      "metadata": {
        "colab": {
          "base_uri": "https://localhost:8080/"
        },
        "id": "cAuimyJOYrtD",
        "outputId": "fed1c714-87c9-4928-c5e8-dff993943e3f"
      },
      "execution_count": null,
      "outputs": [
        {
          "output_type": "stream",
          "name": "stdout",
          "text": [
            "2\n"
          ]
        }
      ]
    },
    {
      "cell_type": "code",
      "source": [
        "# a, b = map(list, input().split())"
      ],
      "metadata": {
        "colab": {
          "base_uri": "https://localhost:8080/"
        },
        "id": "yyOZpLvRalzK",
        "outputId": "03deff57-1e5f-41ab-9bdc-53cd86bb1c1b"
      },
      "execution_count": null,
      "outputs": [
        {
          "name": "stdout",
          "output_type": "stream",
          "text": [
            "3 ABC\n"
          ]
        }
      ]
    },
    {
      "cell_type": "code",
      "source": [
        "# a = int(a[0])"
      ],
      "metadata": {
        "id": "H5PZ63trarhK"
      },
      "execution_count": null,
      "outputs": []
    },
    {
      "cell_type": "code",
      "source": [
        "# print(a, b)"
      ],
      "metadata": {
        "colab": {
          "base_uri": "https://localhost:8080/"
        },
        "id": "UV7JdZfXaxJZ",
        "outputId": "c11b8701-d219-48df-b492-9e578d75d3b0"
      },
      "execution_count": null,
      "outputs": [
        {
          "output_type": "stream",
          "name": "stdout",
          "text": [
            "3 ['A', 'B', 'C']\n"
          ]
        }
      ]
    },
    {
      "cell_type": "code",
      "source": [
        "# for _ in b:\n",
        "#   print(_ *3, end='' )"
      ],
      "metadata": {
        "colab": {
          "base_uri": "https://localhost:8080/"
        },
        "id": "xEUpAmblayyZ",
        "outputId": "e63defcc-7f70-4768-89f2-d76145811359"
      },
      "execution_count": null,
      "outputs": [
        {
          "output_type": "stream",
          "name": "stdout",
          "text": [
            "AAABBBCCC"
          ]
        }
      ]
    },
    {
      "cell_type": "code",
      "source": [
        "# a, b = map(list, input().split())\n",
        "# a = int(a[0])\n",
        "# for _ in b:\n",
        "#   print(_ * a, end = '')\n",
        "# print(t)\n",
        "\n",
        "import sys                                    #2675번 완성본 (원본이 없어서 그나마 비슷한 셀을 백준에서 복붙)\n",
        "for i in range(0, int(sys.stdin.readline())):\n",
        "    a, b = map(list, input().split())\n",
        "    a = int(a[0])\n",
        "    for _ in b:\n",
        "      print(_ * a, end = '')\n",
        "    print(\"\")"
      ],
      "metadata": {
        "colab": {
          "base_uri": "https://localhost:8080/"
        },
        "id": "vMinVXHBa-DJ",
        "outputId": "190489ad-f0df-48a8-908b-9a5603eb4b89"
      },
      "execution_count": null,
      "outputs": [
        {
          "output_type": "stream",
          "name": "stdout",
          "text": [
            "3 43\n",
            "4443332\n"
          ]
        }
      ]
    },
    {
      "cell_type": "code",
      "source": [
        "a = int(input())                              #2935번 완성본\n",
        "b = input()\n",
        "c = int(input())\n",
        "if b == '*':\n",
        "  print(a * c)\n",
        "else :\n",
        "  print(a + c)"
      ],
      "metadata": {
        "colab": {
          "base_uri": "https://localhost:8080/"
        },
        "id": "0CEYAD5vbx0_",
        "outputId": "3399b114-536e-468c-e985-dd4992764ac5"
      },
      "execution_count": null,
      "outputs": [
        {
          "output_type": "stream",
          "name": "stdout",
          "text": [
            "3\n",
            "*\n",
            "10\n",
            "30\n"
          ]
        }
      ]
    },
    {
      "cell_type": "code",
      "source": [
        "a, b, c = map(int,input().split())             #10817번 완성본\n",
        "L = [a, b, c]\n",
        "L.sort()\n",
        "print(L[1])"
      ],
      "metadata": {
        "colab": {
          "base_uri": "https://localhost:8080/"
        },
        "id": "XieywSdZdAFy",
        "outputId": "64391495-d00a-4f5b-a4bf-345a182ef855"
      },
      "execution_count": null,
      "outputs": [
        {
          "output_type": "stream",
          "name": "stdout",
          "text": [
            "30 30 40\n",
            "30\n"
          ]
        }
      ]
    },
    {
      "cell_type": "code",
      "source": [
        "# a = 1                                       \n",
        "# b = 2\n",
        "# c = 3\n",
        "# L = [a, b, c]\n",
        "# print(L)"
      ],
      "metadata": {
        "colab": {
          "base_uri": "https://localhost:8080/"
        },
        "id": "2anG7FP4eAop",
        "outputId": "a2630949-13bc-489e-ed12-55422e701eeb"
      },
      "execution_count": null,
      "outputs": [
        {
          "output_type": "stream",
          "name": "stdout",
          "text": [
            "[1, 2, 3]\n"
          ]
        }
      ]
    },
    {
      "cell_type": "code",
      "source": [
        "a = int(input())                              #11653번 완성본\n",
        "i = 2\n",
        "while a != 1:\n",
        "  if a % i == 0:\n",
        "    print(i)\n",
        "    a /= i\n",
        "    i = 1\n",
        "  i += 1"
      ],
      "metadata": {
        "colab": {
          "base_uri": "https://localhost:8080/"
        },
        "id": "YggTnix8eytD",
        "outputId": "9b79ca8b-104e-4a25-dac8-a3485b94eac3"
      },
      "execution_count": null,
      "outputs": [
        {
          "output_type": "stream",
          "name": "stdout",
          "text": [
            "9991\n",
            "97\n",
            "103\n"
          ]
        }
      ]
    },
    {
      "cell_type": "code",
      "source": [
        "n = int(input())                           #1789번 완성본\n",
        "temp = 2\n",
        "com = 1\n",
        "while com <= n:\n",
        "  com += temp\n",
        "  temp += 1\n",
        "print(temp - 2)"
      ],
      "metadata": {
        "colab": {
          "base_uri": "https://localhost:8080/"
        },
        "id": "C01uR9iYf_1p",
        "outputId": "72794e89-ca7e-4d3a-8724-1def151c4814"
      },
      "execution_count": null,
      "outputs": [
        {
          "output_type": "stream",
          "name": "stdout",
          "text": [
            "10\n",
            "3\n"
          ]
        }
      ]
    },
    {
      "cell_type": "code",
      "source": [
        "all = 0                                           #10039번 완성본\n",
        "for i in range(0, 5):\n",
        "  a = int(input())\n",
        "  if a < 40:\n",
        "    a = 40\n",
        "  all += a\n",
        "print(int(all / 5))"
      ],
      "metadata": {
        "colab": {
          "base_uri": "https://localhost:8080/"
        },
        "id": "qXeA9l8As5b1",
        "outputId": "581888ca-7637-4e03-e707-9bb68ad13cb5"
      },
      "execution_count": null,
      "outputs": [
        {
          "output_type": "stream",
          "name": "stdout",
          "text": [
            "10\n",
            "65\n",
            "100\n",
            "30\n",
            "95\n",
            "68\n"
          ]
        }
      ]
    },
    {
      "cell_type": "code",
      "source": [
        "# import sys                                    #1934번 미완성본(ZeroDivisionError)\n",
        "# for i in range(0, int(input())):\n",
        "#   A, B = map(int, input().split())\n",
        "#   temp = 0\n",
        "#   a, b = A, B\n",
        "#   if A == B:\n",
        "#     print(int(A))\n",
        "#     continue\n",
        "#   while temp >= 0:\n",
        "#     if a > b:\n",
        "#       temp = a - b\n",
        "#       a = temp\n",
        "#     elif a < b:\n",
        "#       temp = b - a\n",
        "#       b = temp\n",
        "#     if a % b == 0:\n",
        "#       break\n",
        "#   print(int(A * B / temp))"
      ],
      "metadata": {
        "colab": {
          "base_uri": "https://localhost:8080/"
        },
        "id": "zZADp1FKuArH",
        "outputId": "869b681f-b771-40a4-9bcb-83937493552a"
      },
      "execution_count": null,
      "outputs": [
        {
          "output_type": "stream",
          "name": "stdout",
          "text": [
            "4\n",
            "4 4\n",
            "4\n",
            "16 20\n",
            "80\n",
            "20 25\n",
            "100\n",
            "17 31\n",
            "527\n"
          ]
        }
      ]
    },
    {
      "cell_type": "code",
      "source": [
        "import sys\n",
        "for i in range(0, int(input())):\n",
        "  A, B = map(int, input().split())\n",
        "  a, b = A, B\n",
        "  while b > 0:\n",
        "    a, b = b, a % b\n",
        "  print(a * b)"
      ],
      "metadata": {
        "colab": {
          "base_uri": "https://localhost:8080/",
          "height": 470
        },
        "id": "d40x5ETs6HeO",
        "outputId": "6c4dd052-e5b1-417e-e821-c7a261b88a69"
      },
      "execution_count": null,
      "outputs": [
        {
          "metadata": {
            "tags": null
          },
          "name": "stdout",
          "output_type": "stream",
          "text": [
            "0\n",
            "0\n"
          ]
        },
        {
          "output_type": "error",
          "ename": "KeyboardInterrupt",
          "evalue": "ignored",
          "traceback": [
            "\u001b[0;31m---------------------------------------------------------------------------\u001b[0m",
            "\u001b[0;31mKeyboardInterrupt\u001b[0m                         Traceback (most recent call last)",
            "\u001b[0;32m<ipython-input-168-baa68527f61c>\u001b[0m in \u001b[0;36m<module>\u001b[0;34m\u001b[0m\n\u001b[1;32m      1\u001b[0m \u001b[0;32mimport\u001b[0m \u001b[0msys\u001b[0m\u001b[0;34m\u001b[0m\u001b[0;34m\u001b[0m\u001b[0m\n\u001b[1;32m      2\u001b[0m \u001b[0;32mfor\u001b[0m \u001b[0mi\u001b[0m \u001b[0;32min\u001b[0m \u001b[0mrange\u001b[0m\u001b[0;34m(\u001b[0m\u001b[0;36m0\u001b[0m\u001b[0;34m,\u001b[0m \u001b[0mint\u001b[0m\u001b[0;34m(\u001b[0m\u001b[0minput\u001b[0m\u001b[0;34m(\u001b[0m\u001b[0;34m)\u001b[0m\u001b[0;34m)\u001b[0m\u001b[0;34m)\u001b[0m\u001b[0;34m:\u001b[0m\u001b[0;34m\u001b[0m\u001b[0;34m\u001b[0m\u001b[0m\n\u001b[0;32m----> 3\u001b[0;31m   \u001b[0mA\u001b[0m\u001b[0;34m,\u001b[0m \u001b[0mB\u001b[0m \u001b[0;34m=\u001b[0m \u001b[0mmap\u001b[0m\u001b[0;34m(\u001b[0m\u001b[0mint\u001b[0m\u001b[0;34m,\u001b[0m \u001b[0minput\u001b[0m\u001b[0;34m(\u001b[0m\u001b[0;34m)\u001b[0m\u001b[0;34m.\u001b[0m\u001b[0msplit\u001b[0m\u001b[0;34m(\u001b[0m\u001b[0;34m)\u001b[0m\u001b[0;34m)\u001b[0m\u001b[0;34m\u001b[0m\u001b[0;34m\u001b[0m\u001b[0m\n\u001b[0m\u001b[1;32m      4\u001b[0m   \u001b[0ma\u001b[0m\u001b[0;34m,\u001b[0m \u001b[0mb\u001b[0m \u001b[0;34m=\u001b[0m \u001b[0mA\u001b[0m\u001b[0;34m,\u001b[0m \u001b[0mB\u001b[0m\u001b[0;34m\u001b[0m\u001b[0;34m\u001b[0m\u001b[0m\n\u001b[1;32m      5\u001b[0m   \u001b[0;32mwhile\u001b[0m \u001b[0mb\u001b[0m \u001b[0;34m>\u001b[0m \u001b[0;36m0\u001b[0m\u001b[0;34m:\u001b[0m\u001b[0;34m\u001b[0m\u001b[0;34m\u001b[0m\u001b[0m\n",
            "\u001b[0;32m/usr/local/lib/python3.7/dist-packages/ipykernel/kernelbase.py\u001b[0m in \u001b[0;36mraw_input\u001b[0;34m(self, prompt)\u001b[0m\n\u001b[1;32m    861\u001b[0m             \u001b[0mself\u001b[0m\u001b[0;34m.\u001b[0m\u001b[0m_parent_ident\u001b[0m\u001b[0;34m,\u001b[0m\u001b[0;34m\u001b[0m\u001b[0;34m\u001b[0m\u001b[0m\n\u001b[1;32m    862\u001b[0m             \u001b[0mself\u001b[0m\u001b[0;34m.\u001b[0m\u001b[0m_parent_header\u001b[0m\u001b[0;34m,\u001b[0m\u001b[0;34m\u001b[0m\u001b[0;34m\u001b[0m\u001b[0m\n\u001b[0;32m--> 863\u001b[0;31m             \u001b[0mpassword\u001b[0m\u001b[0;34m=\u001b[0m\u001b[0;32mFalse\u001b[0m\u001b[0;34m,\u001b[0m\u001b[0;34m\u001b[0m\u001b[0;34m\u001b[0m\u001b[0m\n\u001b[0m\u001b[1;32m    864\u001b[0m         )\n\u001b[1;32m    865\u001b[0m \u001b[0;34m\u001b[0m\u001b[0m\n",
            "\u001b[0;32m/usr/local/lib/python3.7/dist-packages/ipykernel/kernelbase.py\u001b[0m in \u001b[0;36m_input_request\u001b[0;34m(self, prompt, ident, parent, password)\u001b[0m\n\u001b[1;32m    902\u001b[0m             \u001b[0;32mexcept\u001b[0m \u001b[0mKeyboardInterrupt\u001b[0m\u001b[0;34m:\u001b[0m\u001b[0;34m\u001b[0m\u001b[0;34m\u001b[0m\u001b[0m\n\u001b[1;32m    903\u001b[0m                 \u001b[0;31m# re-raise KeyboardInterrupt, to truncate traceback\u001b[0m\u001b[0;34m\u001b[0m\u001b[0;34m\u001b[0m\u001b[0;34m\u001b[0m\u001b[0m\n\u001b[0;32m--> 904\u001b[0;31m                 \u001b[0;32mraise\u001b[0m \u001b[0mKeyboardInterrupt\u001b[0m\u001b[0;34m(\u001b[0m\u001b[0;34m\"Interrupted by user\"\u001b[0m\u001b[0;34m)\u001b[0m \u001b[0;32mfrom\u001b[0m \u001b[0;32mNone\u001b[0m\u001b[0;34m\u001b[0m\u001b[0;34m\u001b[0m\u001b[0m\n\u001b[0m\u001b[1;32m    905\u001b[0m             \u001b[0;32mexcept\u001b[0m \u001b[0mException\u001b[0m \u001b[0;32mas\u001b[0m \u001b[0me\u001b[0m\u001b[0;34m:\u001b[0m\u001b[0;34m\u001b[0m\u001b[0;34m\u001b[0m\u001b[0m\n\u001b[1;32m    906\u001b[0m                 \u001b[0mself\u001b[0m\u001b[0;34m.\u001b[0m\u001b[0mlog\u001b[0m\u001b[0;34m.\u001b[0m\u001b[0mwarning\u001b[0m\u001b[0;34m(\u001b[0m\u001b[0;34m\"Invalid Message:\"\u001b[0m\u001b[0;34m,\u001b[0m \u001b[0mexc_info\u001b[0m\u001b[0;34m=\u001b[0m\u001b[0;32mTrue\u001b[0m\u001b[0;34m)\u001b[0m\u001b[0;34m\u001b[0m\u001b[0;34m\u001b[0m\u001b[0m\n",
            "\u001b[0;31mKeyboardInterrupt\u001b[0m: Interrupted by user"
          ]
        }
      ]
    },
    {
      "cell_type": "code",
      "source": [
        "from math import lcm                                #1934번 완성본(python 내부 모듈 함수로 해결)\n",
        "import sys\n",
        "for i in range(0, int(sys.stdin.readline())):\n",
        "    a, b = map(int, sys.stdin.readline().split())\n",
        "    print(lcm(a,b))"
      ],
      "metadata": {
        "id": "cJmSw9Ad_8wc"
      },
      "execution_count": null,
      "outputs": []
    },
    {
      "cell_type": "code",
      "source": [
        "import sys                                #1934번 완성본(수학으로 해결.)\n",
        "for i in range(0, int(input())):\n",
        "    a, b = map(int, input().split())\n",
        "    temp = 0\n",
        "    if a < b:\n",
        "      for j in range(a, 1 , -1):\n",
        "        if a % j == 0 and b % j == 0:\n",
        "          temp = 1\n",
        "          break\n",
        "      if temp == 0:\n",
        "        print(a * b)\n",
        "      else:\n",
        "        print(int(a * b / j))\n",
        "    elif a > b:\n",
        "      for j in range(b, 1 , -1):\n",
        "        if a % j == 0 and b % j == 0:\n",
        "          temp = 1\n",
        "          break\n",
        "      if temp == 0:\n",
        "        print(int(a * b))\n",
        "      else:\n",
        "        print(int(a * b / j))\n",
        "    else:\n",
        "      print(a)"
      ],
      "metadata": {
        "id": "X4TsV1GfA17R",
        "colab": {
          "base_uri": "https://localhost:8080/",
          "height": 565
        },
        "outputId": "a653e5aa-bc5b-478e-f96b-37243cc5036f"
      },
      "execution_count": null,
      "outputs": [
        {
          "output_type": "stream",
          "name": "stdout",
          "text": [
            "4\n",
            "10 10\n",
            "10\n",
            "20 25\n",
            "100\n",
            "1 4500\n",
            "4500\n"
          ]
        },
        {
          "output_type": "error",
          "ename": "KeyboardInterrupt",
          "evalue": "ignored",
          "traceback": [
            "\u001b[0;31m---------------------------------------------------------------------------\u001b[0m",
            "\u001b[0;31mKeyboardInterrupt\u001b[0m                         Traceback (most recent call last)",
            "\u001b[0;32m<ipython-input-175-7e8dc7224e89>\u001b[0m in \u001b[0;36m<module>\u001b[0;34m\u001b[0m\n\u001b[1;32m      1\u001b[0m \u001b[0;32mimport\u001b[0m \u001b[0msys\u001b[0m\u001b[0;34m\u001b[0m\u001b[0;34m\u001b[0m\u001b[0m\n\u001b[1;32m      2\u001b[0m \u001b[0;32mfor\u001b[0m \u001b[0mi\u001b[0m \u001b[0;32min\u001b[0m \u001b[0mrange\u001b[0m\u001b[0;34m(\u001b[0m\u001b[0;36m0\u001b[0m\u001b[0;34m,\u001b[0m \u001b[0mint\u001b[0m\u001b[0;34m(\u001b[0m\u001b[0minput\u001b[0m\u001b[0;34m(\u001b[0m\u001b[0;34m)\u001b[0m\u001b[0;34m)\u001b[0m\u001b[0;34m)\u001b[0m\u001b[0;34m:\u001b[0m\u001b[0;34m\u001b[0m\u001b[0;34m\u001b[0m\u001b[0m\n\u001b[0;32m----> 3\u001b[0;31m     \u001b[0ma\u001b[0m\u001b[0;34m,\u001b[0m \u001b[0mb\u001b[0m \u001b[0;34m=\u001b[0m \u001b[0mmap\u001b[0m\u001b[0;34m(\u001b[0m\u001b[0mint\u001b[0m\u001b[0;34m,\u001b[0m \u001b[0minput\u001b[0m\u001b[0;34m(\u001b[0m\u001b[0;34m)\u001b[0m\u001b[0;34m.\u001b[0m\u001b[0msplit\u001b[0m\u001b[0;34m(\u001b[0m\u001b[0;34m)\u001b[0m\u001b[0;34m)\u001b[0m\u001b[0;34m\u001b[0m\u001b[0;34m\u001b[0m\u001b[0m\n\u001b[0m\u001b[1;32m      4\u001b[0m     \u001b[0mtemp\u001b[0m \u001b[0;34m=\u001b[0m \u001b[0;36m0\u001b[0m\u001b[0;34m\u001b[0m\u001b[0;34m\u001b[0m\u001b[0m\n\u001b[1;32m      5\u001b[0m     \u001b[0;32mif\u001b[0m \u001b[0ma\u001b[0m \u001b[0;34m<\u001b[0m \u001b[0mb\u001b[0m\u001b[0;34m:\u001b[0m\u001b[0;34m\u001b[0m\u001b[0;34m\u001b[0m\u001b[0m\n",
            "\u001b[0;32m/usr/local/lib/python3.7/dist-packages/ipykernel/kernelbase.py\u001b[0m in \u001b[0;36mraw_input\u001b[0;34m(self, prompt)\u001b[0m\n\u001b[1;32m    861\u001b[0m             \u001b[0mself\u001b[0m\u001b[0;34m.\u001b[0m\u001b[0m_parent_ident\u001b[0m\u001b[0;34m,\u001b[0m\u001b[0;34m\u001b[0m\u001b[0;34m\u001b[0m\u001b[0m\n\u001b[1;32m    862\u001b[0m             \u001b[0mself\u001b[0m\u001b[0;34m.\u001b[0m\u001b[0m_parent_header\u001b[0m\u001b[0;34m,\u001b[0m\u001b[0;34m\u001b[0m\u001b[0;34m\u001b[0m\u001b[0m\n\u001b[0;32m--> 863\u001b[0;31m             \u001b[0mpassword\u001b[0m\u001b[0;34m=\u001b[0m\u001b[0;32mFalse\u001b[0m\u001b[0;34m,\u001b[0m\u001b[0;34m\u001b[0m\u001b[0;34m\u001b[0m\u001b[0m\n\u001b[0m\u001b[1;32m    864\u001b[0m         )\n\u001b[1;32m    865\u001b[0m \u001b[0;34m\u001b[0m\u001b[0m\n",
            "\u001b[0;32m/usr/local/lib/python3.7/dist-packages/ipykernel/kernelbase.py\u001b[0m in \u001b[0;36m_input_request\u001b[0;34m(self, prompt, ident, parent, password)\u001b[0m\n\u001b[1;32m    902\u001b[0m             \u001b[0;32mexcept\u001b[0m \u001b[0mKeyboardInterrupt\u001b[0m\u001b[0;34m:\u001b[0m\u001b[0;34m\u001b[0m\u001b[0;34m\u001b[0m\u001b[0m\n\u001b[1;32m    903\u001b[0m                 \u001b[0;31m# re-raise KeyboardInterrupt, to truncate traceback\u001b[0m\u001b[0;34m\u001b[0m\u001b[0;34m\u001b[0m\u001b[0;34m\u001b[0m\u001b[0m\n\u001b[0;32m--> 904\u001b[0;31m                 \u001b[0;32mraise\u001b[0m \u001b[0mKeyboardInterrupt\u001b[0m\u001b[0;34m(\u001b[0m\u001b[0;34m\"Interrupted by user\"\u001b[0m\u001b[0;34m)\u001b[0m \u001b[0;32mfrom\u001b[0m \u001b[0;32mNone\u001b[0m\u001b[0;34m\u001b[0m\u001b[0;34m\u001b[0m\u001b[0m\n\u001b[0m\u001b[1;32m    905\u001b[0m             \u001b[0;32mexcept\u001b[0m \u001b[0mException\u001b[0m \u001b[0;32mas\u001b[0m \u001b[0me\u001b[0m\u001b[0;34m:\u001b[0m\u001b[0;34m\u001b[0m\u001b[0;34m\u001b[0m\u001b[0m\n\u001b[1;32m    906\u001b[0m                 \u001b[0mself\u001b[0m\u001b[0;34m.\u001b[0m\u001b[0mlog\u001b[0m\u001b[0;34m.\u001b[0m\u001b[0mwarning\u001b[0m\u001b[0;34m(\u001b[0m\u001b[0;34m\"Invalid Message:\"\u001b[0m\u001b[0;34m,\u001b[0m \u001b[0mexc_info\u001b[0m\u001b[0;34m=\u001b[0m\u001b[0;32mTrue\u001b[0m\u001b[0;34m)\u001b[0m\u001b[0;34m\u001b[0m\u001b[0;34m\u001b[0m\u001b[0m\n",
            "\u001b[0;31mKeyboardInterrupt\u001b[0m: Interrupted by user"
          ]
        }
      ]
    },
    {
      "cell_type": "code",
      "source": [
        "L = []                                        #2480번 완성본\n",
        "a, b, c = map(int, input().split())\n",
        "L.append(a)\n",
        "L.append(b)\n",
        "L.append(c)\n",
        "L.sort()\n",
        "if a == b == c:\n",
        "  print(10000 + L[1] * 1000)\n",
        "elif a != b and b != c and c != a :\n",
        "  print(L[2] * 100)\n",
        "else :\n",
        "  print(1000 + L[1] * 100)\n",
        "\n"
      ],
      "metadata": {
        "id": "tf2i59eEFEVK",
        "colab": {
          "base_uri": "https://localhost:8080/"
        },
        "outputId": "c3b22c21-aa1a-424f-df50-b7674c8de9da"
      },
      "execution_count": null,
      "outputs": [
        {
          "output_type": "stream",
          "name": "stdout",
          "text": [
            "3 2 6\n",
            "600\n"
          ]
        }
      ]
    },
    {
      "cell_type": "code",
      "source": [
        "while True:                       #4101번 완성본\n",
        "  a, b = map(int, input().split())\n",
        "  if a == 0 and b == 0:\n",
        "    break\n",
        "  if a > b:\n",
        "    print('Yes')\n",
        "  else:\n",
        "    print('No')"
      ],
      "metadata": {
        "colab": {
          "base_uri": "https://localhost:8080/"
        },
        "id": "s0A-dIazH22Z",
        "outputId": "a4dabe42-b7b3-4164-9e07-1e24471c69d5"
      },
      "execution_count": null,
      "outputs": [
        {
          "name": "stdout",
          "output_type": "stream",
          "text": [
            "3 4\n",
            "No\n",
            "10 4\n",
            "Yes\n",
            "4 4\n",
            "No\n",
            "0 0\n"
          ]
        }
      ]
    },
    {
      "cell_type": "code",
      "source": [
        "a, b, c = map(int,input().split())            #10156번 완성본\n",
        "if a * b > c:\n",
        "  print(a * b - c)\n",
        "else:\n",
        "  print(0)"
      ],
      "metadata": {
        "colab": {
          "base_uri": "https://localhost:8080/"
        },
        "id": "kqNSNCm9IrEP",
        "outputId": "1383e90f-94f4-441d-8335-575787e3e484"
      },
      "execution_count": null,
      "outputs": [
        {
          "output_type": "stream",
          "name": "stdout",
          "text": [
            "20 6 120\n",
            "0\n"
          ]
        }
      ]
    },
    {
      "cell_type": "code",
      "source": [
        "L1, L2 = [],[]                                  #3009번 완성본\n",
        "for i in range(0,3):\n",
        "  a, b = map(int, input().split())\n",
        "  L1.append(a)\n",
        "  L2.append(b)\n",
        "if L1[0] == L1[1]:\n",
        "  if L2[0] == L2[1] :\n",
        "    print(L1[2], L2[2])\n",
        "  elif L2[0] == L2[2]:\n",
        "    print(L1[2], L2[1])\n",
        "  else:\n",
        "    print(L1[2], L2[0])\n",
        "elif L1[0] == L1[2]:\n",
        "  if L2[0] == L2[1] :\n",
        "    print(L1[1], L2[2])\n",
        "  elif L2[0] == L2[2]:\n",
        "    print(L1[1], L2[1])\n",
        "  else:\n",
        "    print(L1[1], L2[0])\n",
        "else:\n",
        "  if L2[0] == L2[1] :\n",
        "    print(L1[0], L2[2])\n",
        "  elif L2[0] == L2[2]:\n",
        "    print(L1[0], L2[1])\n",
        "  else:\n",
        "    print(L1[0], L2[0])"
      ],
      "metadata": {
        "colab": {
          "base_uri": "https://localhost:8080/"
        },
        "id": "cgnoWG-iLULu",
        "outputId": "48d9aab5-bd3a-4ae3-c04d-1808372d61b4"
      },
      "execution_count": null,
      "outputs": [
        {
          "output_type": "stream",
          "name": "stdout",
          "text": [
            "30 20\n",
            "10 10\n",
            "10 20\n",
            "30 10\n"
          ]
        }
      ]
    },
    {
      "cell_type": "code",
      "source": [
        "import sys                                  #2476번 완성본\n",
        "N = int(input())\n",
        "total = []\n",
        "for i in range(0, N):\n",
        "  L = []\n",
        "  a, b, c = map(int, input().split())\n",
        "  L.append(a)\n",
        "  L.append(b)\n",
        "  L.append(c)\n",
        "  L.sort()\n",
        "  if a == b == c:\n",
        "    k = 10000 + L[1] * 1000\n",
        "  elif a != b and b != c and c != a :\n",
        "    k = L[2] * 100\n",
        "  else :\n",
        "    k = 1000 + L[1] * 100\n",
        "  total.append(k)\n",
        "total.sort()\n",
        "print(total[N-1])"
      ],
      "metadata": {
        "colab": {
          "base_uri": "https://localhost:8080/"
        },
        "id": "Ynk7rBQuNNzW",
        "outputId": "6f645f0e-ce77-484c-8e2c-4f4ed46c4f14"
      },
      "execution_count": null,
      "outputs": [
        {
          "output_type": "stream",
          "name": "stdout",
          "text": [
            "3\n",
            "3 3 6\n",
            "2 2 2\n",
            "6 2 5\n",
            "12000\n"
          ]
        }
      ]
    },
    {
      "cell_type": "code",
      "source": [
        "a = input()                       #2754번 완성본\n",
        "if a[0] == 'A':\n",
        "  if a[1] == '+':\n",
        "    print(4.3)\n",
        "  elif a[1] == '0':\n",
        "    print(4.0)\n",
        "  else:\n",
        "    print(3.7)\n",
        "elif a[0] == 'B':\n",
        "  if a[1] == '+':\n",
        "    print(3.3)\n",
        "  elif a[1] == '0':\n",
        "    print(3.0)\n",
        "  else:\n",
        "    print(2.7)\n",
        "elif a[0] == 'C':\n",
        "  if a[1] == '+':\n",
        "    print(2.3)\n",
        "  elif a[1] == '0':\n",
        "    print(2.0)\n",
        "  else:\n",
        "    print(1.7)\n",
        "elif a[0] == 'D':\n",
        "  if a[1] == '+':\n",
        "    print(1.3)\n",
        "  elif a[1] == '0':\n",
        "    print(1.0)\n",
        "  else:\n",
        "    print(0.7)\n",
        "else:\n",
        "  print(0.0)"
      ],
      "metadata": {
        "id": "21U08d2zPjx2",
        "colab": {
          "base_uri": "https://localhost:8080/"
        },
        "outputId": "7621cbc5-ab84-4ccb-dbda-b8d2ddb530cd"
      },
      "execution_count": null,
      "outputs": [
        {
          "output_type": "stream",
          "name": "stdout",
          "text": [
            "A0\n",
            "4.0\n"
          ]
        }
      ]
    },
    {
      "cell_type": "code",
      "source": [
        "a = list(input())                         #7567번 완성본\n",
        "t = 10\n",
        "for i in range(0,len(a)-1):\n",
        "  if a[i] == a[i+1]:\n",
        "    t += 5\n",
        "  else:\n",
        "    t += 10\n",
        "print(t)"
      ],
      "metadata": {
        "colab": {
          "base_uri": "https://localhost:8080/"
        },
        "id": "4kjUj6OwC_MG",
        "outputId": "51ea8a48-a21d-4b3a-c4cb-512caff5404d"
      },
      "execution_count": null,
      "outputs": [
        {
          "output_type": "stream",
          "name": "stdout",
          "text": [
            "()()()))(\n",
            "80\n"
          ]
        }
      ]
    },
    {
      "cell_type": "code",
      "source": [
        "import sys                                #5063번 완성본\n",
        "for i in range(0, int(input())):\n",
        "  r, e, c = map(int, input().split())\n",
        "  if r < e - c:\n",
        "    print('advertise')\n",
        "  elif r == e - c:\n",
        "    print('does not matter')\n",
        "  else:\n",
        "    print('do not advertise')\n"
      ],
      "metadata": {
        "colab": {
          "base_uri": "https://localhost:8080/"
        },
        "id": "VZp-Et_CE4dT",
        "outputId": "5246f77c-ca8b-4a0f-ab6d-c6d1f05f1f6f"
      },
      "execution_count": null,
      "outputs": [
        {
          "output_type": "stream",
          "name": "stdout",
          "text": [
            "3\n",
            "0 100 70\n",
            "advertise\n",
            "100 130 30\n",
            "does not matter\n",
            "-100 -70 40\n",
            "do not advertise\n"
          ]
        }
      ]
    },
    {
      "cell_type": "code",
      "source": [
        "import sys                                        #10102번 완성본\n",
        "a = int(input())\n",
        "b = list(input())\n",
        "A, B = 0, 0\n",
        "for i in range(0, a):\n",
        "  if b[i] == 'A':\n",
        "    A += 1\n",
        "  else :\n",
        "    B += 1\n",
        "if A > B:\n",
        "  print('A')\n",
        "elif A < B:\n",
        "  print('B')\n",
        "else:\n",
        "  print('Tie')"
      ],
      "metadata": {
        "colab": {
          "base_uri": "https://localhost:8080/",
          "height": 432
        },
        "id": "SqJKG5aUF0EY",
        "outputId": "cd5d4649-3e9b-40f5-dee7-6d34a780a2d3"
      },
      "execution_count": null,
      "outputs": [
        {
          "output_type": "error",
          "ename": "KeyboardInterrupt",
          "evalue": "ignored",
          "traceback": [
            "\u001b[0;31m---------------------------------------------------------------------------\u001b[0m",
            "\u001b[0;31mKeyboardInterrupt\u001b[0m                         Traceback (most recent call last)",
            "\u001b[0;32m<ipython-input-15-93a12b524c18>\u001b[0m in \u001b[0;36m<module>\u001b[0;34m\u001b[0m\n\u001b[1;32m      1\u001b[0m \u001b[0;32mimport\u001b[0m \u001b[0msys\u001b[0m\u001b[0;34m\u001b[0m\u001b[0;34m\u001b[0m\u001b[0m\n\u001b[0;32m----> 2\u001b[0;31m \u001b[0ma\u001b[0m \u001b[0;34m=\u001b[0m \u001b[0mint\u001b[0m\u001b[0;34m(\u001b[0m\u001b[0minput\u001b[0m\u001b[0;34m(\u001b[0m\u001b[0;34m)\u001b[0m\u001b[0;34m)\u001b[0m\u001b[0;34m\u001b[0m\u001b[0;34m\u001b[0m\u001b[0m\n\u001b[0m\u001b[1;32m      3\u001b[0m \u001b[0mb\u001b[0m \u001b[0;34m=\u001b[0m \u001b[0mlist\u001b[0m\u001b[0;34m(\u001b[0m\u001b[0minput\u001b[0m\u001b[0;34m(\u001b[0m\u001b[0;34m)\u001b[0m\u001b[0;34m)\u001b[0m\u001b[0;34m\u001b[0m\u001b[0;34m\u001b[0m\u001b[0m\n\u001b[1;32m      4\u001b[0m \u001b[0mA\u001b[0m\u001b[0;34m,\u001b[0m \u001b[0mB\u001b[0m \u001b[0;34m=\u001b[0m \u001b[0;36m0\u001b[0m\u001b[0;34m,\u001b[0m \u001b[0;36m0\u001b[0m\u001b[0;34m\u001b[0m\u001b[0;34m\u001b[0m\u001b[0m\n\u001b[1;32m      5\u001b[0m \u001b[0;32mfor\u001b[0m \u001b[0mi\u001b[0m \u001b[0;32min\u001b[0m \u001b[0mrange\u001b[0m\u001b[0;34m(\u001b[0m\u001b[0;36m0\u001b[0m\u001b[0;34m,\u001b[0m \u001b[0ma\u001b[0m\u001b[0;34m)\u001b[0m\u001b[0;34m:\u001b[0m\u001b[0;34m\u001b[0m\u001b[0;34m\u001b[0m\u001b[0m\n",
            "\u001b[0;32m/usr/local/lib/python3.7/dist-packages/ipykernel/kernelbase.py\u001b[0m in \u001b[0;36mraw_input\u001b[0;34m(self, prompt)\u001b[0m\n\u001b[1;32m    861\u001b[0m             \u001b[0mself\u001b[0m\u001b[0;34m.\u001b[0m\u001b[0m_parent_ident\u001b[0m\u001b[0;34m,\u001b[0m\u001b[0;34m\u001b[0m\u001b[0;34m\u001b[0m\u001b[0m\n\u001b[1;32m    862\u001b[0m             \u001b[0mself\u001b[0m\u001b[0;34m.\u001b[0m\u001b[0m_parent_header\u001b[0m\u001b[0;34m,\u001b[0m\u001b[0;34m\u001b[0m\u001b[0;34m\u001b[0m\u001b[0m\n\u001b[0;32m--> 863\u001b[0;31m             \u001b[0mpassword\u001b[0m\u001b[0;34m=\u001b[0m\u001b[0;32mFalse\u001b[0m\u001b[0;34m,\u001b[0m\u001b[0;34m\u001b[0m\u001b[0;34m\u001b[0m\u001b[0m\n\u001b[0m\u001b[1;32m    864\u001b[0m         )\n\u001b[1;32m    865\u001b[0m \u001b[0;34m\u001b[0m\u001b[0m\n",
            "\u001b[0;32m/usr/local/lib/python3.7/dist-packages/ipykernel/kernelbase.py\u001b[0m in \u001b[0;36m_input_request\u001b[0;34m(self, prompt, ident, parent, password)\u001b[0m\n\u001b[1;32m    902\u001b[0m             \u001b[0;32mexcept\u001b[0m \u001b[0mKeyboardInterrupt\u001b[0m\u001b[0;34m:\u001b[0m\u001b[0;34m\u001b[0m\u001b[0;34m\u001b[0m\u001b[0m\n\u001b[1;32m    903\u001b[0m                 \u001b[0;31m# re-raise KeyboardInterrupt, to truncate traceback\u001b[0m\u001b[0;34m\u001b[0m\u001b[0;34m\u001b[0m\u001b[0;34m\u001b[0m\u001b[0m\n\u001b[0;32m--> 904\u001b[0;31m                 \u001b[0;32mraise\u001b[0m \u001b[0mKeyboardInterrupt\u001b[0m\u001b[0;34m(\u001b[0m\u001b[0;34m\"Interrupted by user\"\u001b[0m\u001b[0;34m)\u001b[0m \u001b[0;32mfrom\u001b[0m \u001b[0;32mNone\u001b[0m\u001b[0;34m\u001b[0m\u001b[0;34m\u001b[0m\u001b[0m\n\u001b[0m\u001b[1;32m    905\u001b[0m             \u001b[0;32mexcept\u001b[0m \u001b[0mException\u001b[0m \u001b[0;32mas\u001b[0m \u001b[0me\u001b[0m\u001b[0;34m:\u001b[0m\u001b[0;34m\u001b[0m\u001b[0;34m\u001b[0m\u001b[0m\n\u001b[1;32m    906\u001b[0m                 \u001b[0mself\u001b[0m\u001b[0;34m.\u001b[0m\u001b[0mlog\u001b[0m\u001b[0;34m.\u001b[0m\u001b[0mwarning\u001b[0m\u001b[0;34m(\u001b[0m\u001b[0;34m\"Invalid Message:\"\u001b[0m\u001b[0;34m,\u001b[0m \u001b[0mexc_info\u001b[0m\u001b[0;34m=\u001b[0m\u001b[0;32mTrue\u001b[0m\u001b[0;34m)\u001b[0m\u001b[0;34m\u001b[0m\u001b[0;34m\u001b[0m\u001b[0m\n",
            "\u001b[0;31mKeyboardInterrupt\u001b[0m: Interrupted by user"
          ]
        }
      ]
    },
    {
      "cell_type": "code",
      "source": [
        "import sys                                      #10886번 완성본\n",
        "notcu, cu = 0, 0\n",
        "for i in range(0, int(sys.stdin.readline())):\n",
        "  a = int(input())\n",
        "  if a == 0:\n",
        "    notcu += 1\n",
        "  else:\n",
        "    cu += 1\n",
        "if notcu > cu:\n",
        "  print('Junhee is not cute!')\n",
        "else:\n",
        "  print('Junhee is cute!')"
      ],
      "metadata": {
        "id": "Ltwjp3vwGq4j"
      },
      "execution_count": null,
      "outputs": []
    },
    {
      "cell_type": "code",
      "source": [
        "import sys                                      #10988번 완성본\n",
        "a = input()\n",
        "t = 0\n",
        "for i in range(0, len(a)//2):\n",
        "  if a[i] != a[i * -1 -1]:\n",
        "    t += 1\n",
        "    break\n",
        "if t != 0:\n",
        "  print(0)\n",
        "else:\n",
        "  print(1)"
      ],
      "metadata": {
        "colab": {
          "base_uri": "https://localhost:8080/"
        },
        "id": "Be0jYqlXIBc3",
        "outputId": "827d256c-6b31-4716-c426-f9186fb60424"
      },
      "execution_count": null,
      "outputs": [
        {
          "output_type": "stream",
          "name": "stdout",
          "text": [
            "vbs\n",
            "0\n"
          ]
        }
      ]
    },
    {
      "cell_type": "code",
      "source": [
        "# a = 'level'\n",
        "# print(a[-1], a[-2])"
      ],
      "metadata": {
        "colab": {
          "base_uri": "https://localhost:8080/"
        },
        "id": "2qzki8fUILe8",
        "outputId": "533e8f20-1d3c-4e4a-ec3d-16f236b3065b"
      },
      "execution_count": null,
      "outputs": [
        {
          "output_type": "stream",
          "name": "stdout",
          "text": [
            "l e\n"
          ]
        }
      ]
    },
    {
      "cell_type": "code",
      "source": [
        "import sys                              #5086번 완성본\n",
        "while True:\n",
        "  a, b = map(int, input().split())\n",
        "  if a == 0 and b == 0:\n",
        "    break\n",
        "  if b % a == 0:\n",
        "    print('factor')\n",
        "  elif a % b == 0:\n",
        "    print('multiple')\n",
        "  else:\n",
        "    print('neither')\n"
      ],
      "metadata": {
        "colab": {
          "base_uri": "https://localhost:8080/",
          "height": 275
        },
        "id": "KTyogOyyI_O9",
        "outputId": "563bd451-f955-4b00-fb3f-5888e9edea9f"
      },
      "execution_count": null,
      "outputs": [
        {
          "name": "stdout",
          "output_type": "stream",
          "text": [
            "4 16\n"
          ]
        },
        {
          "output_type": "error",
          "ename": "ValueError",
          "evalue": "ignored",
          "traceback": [
            "\u001b[0;31m---------------------------------------------------------------------------\u001b[0m",
            "\u001b[0;31mValueError\u001b[0m                                Traceback (most recent call last)",
            "\u001b[0;32m<ipython-input-37-aa792ec16b00>\u001b[0m in \u001b[0;36m<module>\u001b[0;34m\u001b[0m\n\u001b[1;32m      1\u001b[0m \u001b[0;32mimport\u001b[0m \u001b[0msys\u001b[0m\u001b[0;34m\u001b[0m\u001b[0;34m\u001b[0m\u001b[0m\n\u001b[1;32m      2\u001b[0m \u001b[0;32mwhile\u001b[0m \u001b[0;32mTrue\u001b[0m\u001b[0;34m:\u001b[0m\u001b[0;34m\u001b[0m\u001b[0;34m\u001b[0m\u001b[0m\n\u001b[0;32m----> 3\u001b[0;31m   \u001b[0ma\u001b[0m\u001b[0;34m,\u001b[0m \u001b[0mb\u001b[0m \u001b[0;34m=\u001b[0m \u001b[0mmap\u001b[0m\u001b[0;34m(\u001b[0m\u001b[0mint\u001b[0m\u001b[0;34m,\u001b[0m \u001b[0minput\u001b[0m\u001b[0;34m(\u001b[0m\u001b[0;34m)\u001b[0m\u001b[0;34m)\u001b[0m\u001b[0;34m\u001b[0m\u001b[0;34m\u001b[0m\u001b[0m\n\u001b[0m\u001b[1;32m      4\u001b[0m   \u001b[0;32mif\u001b[0m \u001b[0ma\u001b[0m \u001b[0;34m==\u001b[0m \u001b[0;36m0\u001b[0m \u001b[0;32mand\u001b[0m \u001b[0mb\u001b[0m \u001b[0;34m==\u001b[0m \u001b[0;36m0\u001b[0m\u001b[0;34m:\u001b[0m\u001b[0;34m\u001b[0m\u001b[0;34m\u001b[0m\u001b[0m\n\u001b[1;32m      5\u001b[0m     \u001b[0;32mbreak\u001b[0m\u001b[0;34m\u001b[0m\u001b[0;34m\u001b[0m\u001b[0m\n",
            "\u001b[0;31mValueError\u001b[0m: invalid literal for int() with base 10: ' '"
          ]
        }
      ]
    },
    {
      "cell_type": "code",
      "source": [
        "import sys                                  #5717번 완성본\n",
        "while True:\n",
        "  a, b = map(int, input().split())\n",
        "  if a == 0 and b == 0:\n",
        "    break\n",
        "  print(a + b)"
      ],
      "metadata": {
        "colab": {
          "base_uri": "https://localhost:8080/"
        },
        "id": "LwZkYCIfKfJr",
        "outputId": "71ec8e4d-e4e6-4f85-8a54-0ac909c7e2fc"
      },
      "execution_count": null,
      "outputs": [
        {
          "name": "stdout",
          "output_type": "stream",
          "text": [
            "4 4\n",
            "8\n",
            "0 0\n"
          ]
        }
      ]
    },
    {
      "cell_type": "code",
      "source": [
        "import sys                                    #9610번 완성본\n",
        "axis, q1, q2, q3, q4 = 0, 0, 0, 0, 0\n",
        "for i in range(0, int(sys.stdin.readline())):\n",
        "  a, b = map(int, sys.stdin.readline().split())\n",
        "  if a == 0 or b == 0:\n",
        "    axis += 1\n",
        "  elif a > 0 and b > 0:\n",
        "    q1 += 1\n",
        "  elif a > 0 and b < 0:\n",
        "    q4 += 1\n",
        "  elif a < 0 and b > 0:\n",
        "    q2 += 1\n",
        "  else:\n",
        "    q3 += 1\n",
        "print('Q1:',q1)\n",
        "print('Q2:',q2)\n",
        "print('Q3:',q3)\n",
        "print('Q4:',q4)\n",
        "print('AXIS:',axis)"
      ],
      "metadata": {
        "id": "luMdoIhQK9E6"
      },
      "execution_count": null,
      "outputs": []
    },
    {
      "cell_type": "code",
      "source": [
        "# import sys\n",
        "# O = 0\n",
        "# for i in range(0, int(sys.stdin.readline())):\n",
        "#   b = list(input())\n",
        "#   for j in range(0, len(b)):\n",
        "#     if b[j] = 'O' and "
      ],
      "metadata": {
        "id": "9g-_JZPJMME9"
      },
      "execution_count": null,
      "outputs": []
    },
    {
      "cell_type": "code",
      "source": [
        "import sys                              #10757번 완성본\n",
        "a, b = map(int, input().split())\n",
        "print(a + b)"
      ],
      "metadata": {
        "colab": {
          "base_uri": "https://localhost:8080/"
        },
        "id": "OwxHLHGBNREz",
        "outputId": "dfb69344-49a1-4210-a156-59a78e444632"
      },
      "execution_count": null,
      "outputs": [
        {
          "output_type": "stream",
          "name": "stdout",
          "text": [
            "9223372036854775807 9223372036854775808\n",
            "18446744073709551615\n"
          ]
        }
      ]
    },
    {
      "cell_type": "code",
      "source": [
        "# a = 9223372036854775807\n",
        "# print(a)\n",
        "# print(type(a))"
      ],
      "metadata": {
        "colab": {
          "base_uri": "https://localhost:8080/"
        },
        "id": "a4LMmyAJNQ7W",
        "outputId": "c249965b-ffd7-4e2d-8ab3-dbcf0669f77a"
      },
      "execution_count": null,
      "outputs": [
        {
          "output_type": "stream",
          "name": "stdout",
          "text": [
            "9223372036854775807\n",
            "<class 'int'>\n"
          ]
        }
      ]
    },
    {
      "cell_type": "code",
      "source": [
        "# a = int(input())"
      ],
      "metadata": {
        "colab": {
          "base_uri": "https://localhost:8080/"
        },
        "id": "aZQzSRGrN3mB",
        "outputId": "c0491f83-b810-475c-acf0-3ffc61023591"
      },
      "execution_count": null,
      "outputs": [
        {
          "name": "stdout",
          "output_type": "stream",
          "text": [
            "9223372036854775807\n"
          ]
        }
      ]
    },
    {
      "cell_type": "code",
      "source": [
        "# 9223372036854775807 + 9223372036854775808"
      ],
      "metadata": {
        "colab": {
          "base_uri": "https://localhost:8080/"
        },
        "id": "N5SfBV9fN-uF",
        "outputId": "59869581-1556-499a-b1e8-aadce483aa3b"
      },
      "execution_count": null,
      "outputs": [
        {
          "output_type": "execute_result",
          "data": {
            "text/plain": [
              "18446744073709551615"
            ]
          },
          "metadata": {},
          "execution_count": 46
        }
      ]
    },
    {
      "cell_type": "code",
      "source": [
        "import sys                                        #8958번 완성본\n",
        "for i in range(0, int(input())):\n",
        "  total, temp = 0, 0\n",
        "  t = list(input())\n",
        "  if t[0] == 'O':\n",
        "    total += 1\n",
        "    temp += 1\n",
        "  for j in range(0, len(t)-1):\n",
        "    if t[j] == 'O' and t[j+1] == 'O':\n",
        "      temp += 1\n",
        "    elif t[j] == 'O' and t[j+1] == 'X':\n",
        "      temp = 0\n",
        "    elif t[j] == 'X' and t[j+1] == 'O':\n",
        "      temp += 1\n",
        "    total += temp\n",
        "  print(total)"
      ],
      "metadata": {
        "id": "Heh4OG7AOD_o",
        "colab": {
          "base_uri": "https://localhost:8080/"
        },
        "outputId": "17fff4dc-62c8-4266-8af5-199fd8a289c9"
      },
      "execution_count": null,
      "outputs": [
        {
          "output_type": "stream",
          "name": "stdout",
          "text": [
            "5\n",
            "OOXXOXXOOO\n",
            "10\n",
            "OOXXOOXXOO\n",
            "9\n",
            "OXOXOXOXOXOXOX\n",
            "7\n",
            "OOOOOOOOOO\n",
            "55\n",
            "OOOOXOOOOXOOOOX\n",
            "30\n"
          ]
        }
      ]
    },
    {
      "cell_type": "code",
      "source": [
        "import sys                                  #9506번 완성본\n",
        "while True:\n",
        "  per = []\n",
        "  t = int(input())\n",
        "  if t == -1:\n",
        "    break\n",
        "  for i in range(1, t // 2 + 1):\n",
        "    if t % i == 0:\n",
        "      per.append(i)\n",
        "  if sum(per) == t:\n",
        "    print(\"%d =\" %(t),' + '.join(map(str, per)))\n",
        "  else:\n",
        "    print(\"%d is NOT perfect.\" %t)"
      ],
      "metadata": {
        "colab": {
          "base_uri": "https://localhost:8080/"
        },
        "id": "vmG2TYwf4tK2",
        "outputId": "7586af42-960b-4343-af0d-ce9d4dc1d6f6"
      },
      "execution_count": null,
      "outputs": [
        {
          "name": "stdout",
          "output_type": "stream",
          "text": [
            "6\n",
            "6 = 1 + 2 + 3\n",
            "12\n",
            "12 is NOT perfect\n",
            "28\n",
            "28 = 1 + 2 + 4 + 7 + 14\n",
            "-1\n"
          ]
        }
      ]
    },
    {
      "cell_type": "code",
      "source": [
        "import sys                              #10162번 완성본         \n",
        "A, B, C, k = 0, 0, 0, 0\n",
        "t = int(input())\n",
        "if t % 10 != 0:\n",
        "  k = 1\n",
        "if t // 300 > 0:\n",
        "  A = t // 300\n",
        "  t -= ((t // 300) * 300)\n",
        "if t // 60 > 0 :\n",
        "  B = t // 60\n",
        "  t -= ((t // 60) * 60)\n",
        "C = t // 10\n",
        "if k == 1:\n",
        "  print(-1)\n",
        "else :\n",
        "  print(A, B, C)"
      ],
      "metadata": {
        "colab": {
          "base_uri": "https://localhost:8080/"
        },
        "id": "nnNxoCMO-J-S",
        "outputId": "9ff9cdfd-ab83-47e3-e956-e4e66799dfd4"
      },
      "execution_count": null,
      "outputs": [
        {
          "output_type": "stream",
          "name": "stdout",
          "text": [
            "700\n",
            "2 1 4\n"
          ]
        }
      ]
    },
    {
      "cell_type": "code",
      "source": [
        "import sys                                        #10103번 완성본\n",
        "k1, k2 = 100, 100\n",
        "for i in range(0, int(input())):\n",
        "  a, b = map(int,input().split())\n",
        "  if a > b:\n",
        "    k2 -= a\n",
        "  elif a < b:\n",
        "    k1 -= b\n",
        "print(k1)\n",
        "print(k2)"
      ],
      "metadata": {
        "colab": {
          "base_uri": "https://localhost:8080/"
        },
        "id": "xC7yR-7iAmN2",
        "outputId": "b971ebb1-7fbc-4c43-e9a1-893201abac20"
      },
      "execution_count": null,
      "outputs": [
        {
          "output_type": "stream",
          "name": "stdout",
          "text": [
            "4\n",
            "5 6\n",
            "6 6\n",
            "4 3\n",
            "3 2\n",
            "94\n",
            "93\n"
          ]
        }
      ]
    },
    {
      "cell_type": "code",
      "source": [
        "import sys                                    #10214번 완성본\n",
        "for _ in range(0, int(sys.stdin.readline())):\n",
        "  Yon, Ko = 0, 0\n",
        "  for i in range(0, 9):\n",
        "    a, b = map(int, sys.stdin.readline().split())\n",
        "    Yon += a\n",
        "    Ko += b\n",
        "  if Yon > Ko:\n",
        "    print('Yonsei')\n",
        "  elif Yon < Ko:\n",
        "    print('Korea')\n",
        "  else:\n",
        "    print('Draw')"
      ],
      "metadata": {
        "colab": {
          "base_uri": "https://localhost:8080/",
          "height": 256
        },
        "id": "X_tjpW9lCoQK",
        "outputId": "2604f704-36bc-4a4f-8dec-c5b7ef3a59fd"
      },
      "execution_count": null,
      "outputs": [
        {
          "output_type": "error",
          "ename": "ValueError",
          "evalue": "ignored",
          "traceback": [
            "\u001b[0;31m---------------------------------------------------------------------------\u001b[0m",
            "\u001b[0;31mValueError\u001b[0m                                Traceback (most recent call last)",
            "\u001b[0;32m<ipython-input-28-be2c58aedc25>\u001b[0m in \u001b[0;36m<module>\u001b[0;34m\u001b[0m\n\u001b[1;32m      1\u001b[0m \u001b[0;32mimport\u001b[0m \u001b[0msys\u001b[0m\u001b[0;34m\u001b[0m\u001b[0;34m\u001b[0m\u001b[0m\n\u001b[0;32m----> 2\u001b[0;31m \u001b[0;32mfor\u001b[0m \u001b[0m_\u001b[0m \u001b[0;32min\u001b[0m \u001b[0mrange\u001b[0m\u001b[0;34m(\u001b[0m\u001b[0;36m0\u001b[0m\u001b[0;34m,\u001b[0m \u001b[0mint\u001b[0m\u001b[0;34m(\u001b[0m\u001b[0msys\u001b[0m\u001b[0;34m.\u001b[0m\u001b[0mstdin\u001b[0m\u001b[0;34m.\u001b[0m\u001b[0mreadline\u001b[0m\u001b[0;34m(\u001b[0m\u001b[0;34m)\u001b[0m\u001b[0;34m)\u001b[0m\u001b[0;34m)\u001b[0m\u001b[0;34m:\u001b[0m\u001b[0;34m\u001b[0m\u001b[0;34m\u001b[0m\u001b[0m\n\u001b[0m\u001b[1;32m      3\u001b[0m   \u001b[0mYon\u001b[0m\u001b[0;34m,\u001b[0m \u001b[0mKo\u001b[0m \u001b[0;34m=\u001b[0m \u001b[0;36m0\u001b[0m\u001b[0;34m,\u001b[0m \u001b[0;36m0\u001b[0m\u001b[0;34m\u001b[0m\u001b[0;34m\u001b[0m\u001b[0m\n\u001b[1;32m      4\u001b[0m   \u001b[0;32mfor\u001b[0m \u001b[0mi\u001b[0m \u001b[0;32min\u001b[0m \u001b[0mrange\u001b[0m\u001b[0;34m(\u001b[0m\u001b[0;36m0\u001b[0m\u001b[0;34m,\u001b[0m \u001b[0;36m9\u001b[0m\u001b[0;34m)\u001b[0m\u001b[0;34m:\u001b[0m\u001b[0;34m\u001b[0m\u001b[0;34m\u001b[0m\u001b[0m\n\u001b[1;32m      5\u001b[0m     \u001b[0ma\u001b[0m\u001b[0;34m,\u001b[0m \u001b[0mb\u001b[0m \u001b[0;34m=\u001b[0m \u001b[0mmap\u001b[0m\u001b[0;34m(\u001b[0m\u001b[0mint\u001b[0m\u001b[0;34m,\u001b[0m \u001b[0msys\u001b[0m\u001b[0;34m.\u001b[0m\u001b[0mstdin\u001b[0m\u001b[0;34m.\u001b[0m\u001b[0mreadline\u001b[0m\u001b[0;34m(\u001b[0m\u001b[0;34m)\u001b[0m\u001b[0;34m.\u001b[0m\u001b[0msplit\u001b[0m\u001b[0;34m(\u001b[0m\u001b[0;34m)\u001b[0m\u001b[0;34m)\u001b[0m\u001b[0;34m\u001b[0m\u001b[0;34m\u001b[0m\u001b[0m\n",
            "\u001b[0;31mValueError\u001b[0m: invalid literal for int() with base 10: ''"
          ]
        }
      ]
    },
    {
      "cell_type": "code",
      "source": [
        "import sys                                      #11557번 완성본\n",
        "for _ in range(0, int(input())):\n",
        "  dic = dict() \n",
        "  N = int(input())\n",
        "  for i in range(N):\n",
        "    a, b = map(str, input().split())\n",
        "    b = int(b)\n",
        "    dic[b] = a\n",
        "  dic = sorted(dic.items(), key = None, reverse = True)\n",
        "  print(dic[0][1])"
      ],
      "metadata": {
        "colab": {
          "base_uri": "https://localhost:8080/"
        },
        "id": "13dCA2xNGo5S",
        "outputId": "a8458eb4-52e7-4f16-deb4-0cfdebffbbe3"
      },
      "execution_count": null,
      "outputs": [
        {
          "output_type": "stream",
          "name": "stdout",
          "text": [
            "2\n",
            "3\n",
            "Yonsei 100\n",
            "Korea 1000\n",
            "UOS 10000\n",
            "UOS\n",
            "2\n",
            "sone 10000\n",
            "tesdfqw 10000000000\n",
            "tesdfqw\n"
          ]
        }
      ]
    },
    {
      "cell_type": "code",
      "source": [
        "\n",
        "# print(dic)"
      ],
      "metadata": {
        "colab": {
          "base_uri": "https://localhost:8080/"
        },
        "id": "3jdcvqlWKkdF",
        "outputId": "46c2f0e9-6eb9-456f-d76e-2c013346456a"
      },
      "execution_count": null,
      "outputs": [
        {
          "output_type": "stream",
          "name": "stdout",
          "text": [
            "[(10000000000, 'tesdfqw'), (10000, 'sone')]\n"
          ]
        }
      ]
    },
    {
      "cell_type": "code",
      "source": [
        "import sys\n",
        "lines = sys.stdin.readlines()\n",
        "p=1\n",
        "count=1\n",
        "for line in lines:\n",
        "    n=int(line)\n",
        "    while True:\n",
        "      if(p % n==0):\n",
        "        print(count)\n",
        "        p = 1\n",
        "        count = 1\n",
        "        break\n",
        "      p = p * 10 + 1\n",
        "      count += 1"
      ],
      "metadata": {
        "id": "OmEjFASqLAhZ"
      },
      "execution_count": null,
      "outputs": []
    },
    {
      "cell_type": "code",
      "source": [
        "p = 11\n",
        "p = p * 10 + 1\n",
        "print(p)"
      ],
      "metadata": {
        "colab": {
          "base_uri": "https://localhost:8080/"
        },
        "id": "a_DeBf_PU1_0",
        "outputId": "eeb7f4ec-6516-4e7b-ecd9-3bf71c895dbb"
      },
      "execution_count": null,
      "outputs": [
        {
          "output_type": "stream",
          "name": "stdout",
          "text": [
            "111\n"
          ]
        }
      ]
    },
    {
      "cell_type": "code",
      "source": [
        "# t = int(input())\n",
        "# count = 0\n",
        "# while t != 1:\n",
        "#   if t % 3 == 0:\n",
        "#     t //= 3\n",
        "#     print(3)\n",
        "#   elif t % 2 == 0:\n",
        "#     t //= 2\n",
        "#     print(2)\n",
        "#   else:\n",
        "#     t -= 1\n",
        "#     print(1)\n",
        "#   count += 1\n",
        "# print(count)"
      ],
      "metadata": {
        "colab": {
          "base_uri": "https://localhost:8080/",
          "height": 413
        },
        "id": "CX4Mlu4mU_eL",
        "outputId": "1f92555d-4b7d-4881-e18e-4eab7d7821f9"
      },
      "execution_count": null,
      "outputs": [
        {
          "output_type": "error",
          "ename": "KeyboardInterrupt",
          "evalue": "ignored",
          "traceback": [
            "\u001b[0;31m---------------------------------------------------------------------------\u001b[0m",
            "\u001b[0;31mKeyboardInterrupt\u001b[0m                         Traceback (most recent call last)",
            "\u001b[0;32m<ipython-input-79-e4c0c96864be>\u001b[0m in \u001b[0;36m<module>\u001b[0;34m\u001b[0m\n\u001b[0;32m----> 1\u001b[0;31m \u001b[0mt\u001b[0m \u001b[0;34m=\u001b[0m \u001b[0mint\u001b[0m\u001b[0;34m(\u001b[0m\u001b[0minput\u001b[0m\u001b[0;34m(\u001b[0m\u001b[0;34m)\u001b[0m\u001b[0;34m)\u001b[0m\u001b[0;34m\u001b[0m\u001b[0;34m\u001b[0m\u001b[0m\n\u001b[0m\u001b[1;32m      2\u001b[0m \u001b[0mcount\u001b[0m \u001b[0;34m=\u001b[0m \u001b[0;36m0\u001b[0m\u001b[0;34m\u001b[0m\u001b[0;34m\u001b[0m\u001b[0m\n\u001b[1;32m      3\u001b[0m \u001b[0;32mwhile\u001b[0m \u001b[0mt\u001b[0m \u001b[0;34m!=\u001b[0m \u001b[0;36m1\u001b[0m\u001b[0;34m:\u001b[0m\u001b[0;34m\u001b[0m\u001b[0;34m\u001b[0m\u001b[0m\n\u001b[1;32m      4\u001b[0m   \u001b[0;32mif\u001b[0m \u001b[0mt\u001b[0m \u001b[0;34m%\u001b[0m \u001b[0;36m3\u001b[0m \u001b[0;34m==\u001b[0m \u001b[0;36m0\u001b[0m\u001b[0;34m:\u001b[0m\u001b[0;34m\u001b[0m\u001b[0;34m\u001b[0m\u001b[0m\n\u001b[1;32m      5\u001b[0m     \u001b[0mt\u001b[0m \u001b[0;34m//=\u001b[0m \u001b[0;36m3\u001b[0m\u001b[0;34m\u001b[0m\u001b[0;34m\u001b[0m\u001b[0m\n",
            "\u001b[0;32m/usr/local/lib/python3.7/dist-packages/ipykernel/kernelbase.py\u001b[0m in \u001b[0;36mraw_input\u001b[0;34m(self, prompt)\u001b[0m\n\u001b[1;32m    861\u001b[0m             \u001b[0mself\u001b[0m\u001b[0;34m.\u001b[0m\u001b[0m_parent_ident\u001b[0m\u001b[0;34m,\u001b[0m\u001b[0;34m\u001b[0m\u001b[0;34m\u001b[0m\u001b[0m\n\u001b[1;32m    862\u001b[0m             \u001b[0mself\u001b[0m\u001b[0;34m.\u001b[0m\u001b[0m_parent_header\u001b[0m\u001b[0;34m,\u001b[0m\u001b[0;34m\u001b[0m\u001b[0;34m\u001b[0m\u001b[0m\n\u001b[0;32m--> 863\u001b[0;31m             \u001b[0mpassword\u001b[0m\u001b[0;34m=\u001b[0m\u001b[0;32mFalse\u001b[0m\u001b[0;34m,\u001b[0m\u001b[0;34m\u001b[0m\u001b[0;34m\u001b[0m\u001b[0m\n\u001b[0m\u001b[1;32m    864\u001b[0m         )\n\u001b[1;32m    865\u001b[0m \u001b[0;34m\u001b[0m\u001b[0m\n",
            "\u001b[0;32m/usr/local/lib/python3.7/dist-packages/ipykernel/kernelbase.py\u001b[0m in \u001b[0;36m_input_request\u001b[0;34m(self, prompt, ident, parent, password)\u001b[0m\n\u001b[1;32m    902\u001b[0m             \u001b[0;32mexcept\u001b[0m \u001b[0mKeyboardInterrupt\u001b[0m\u001b[0;34m:\u001b[0m\u001b[0;34m\u001b[0m\u001b[0;34m\u001b[0m\u001b[0m\n\u001b[1;32m    903\u001b[0m                 \u001b[0;31m# re-raise KeyboardInterrupt, to truncate traceback\u001b[0m\u001b[0;34m\u001b[0m\u001b[0;34m\u001b[0m\u001b[0;34m\u001b[0m\u001b[0m\n\u001b[0;32m--> 904\u001b[0;31m                 \u001b[0;32mraise\u001b[0m \u001b[0mKeyboardInterrupt\u001b[0m\u001b[0;34m(\u001b[0m\u001b[0;34m\"Interrupted by user\"\u001b[0m\u001b[0;34m)\u001b[0m \u001b[0;32mfrom\u001b[0m \u001b[0;32mNone\u001b[0m\u001b[0;34m\u001b[0m\u001b[0;34m\u001b[0m\u001b[0m\n\u001b[0m\u001b[1;32m    905\u001b[0m             \u001b[0;32mexcept\u001b[0m \u001b[0mException\u001b[0m \u001b[0;32mas\u001b[0m \u001b[0me\u001b[0m\u001b[0;34m:\u001b[0m\u001b[0;34m\u001b[0m\u001b[0;34m\u001b[0m\u001b[0m\n\u001b[1;32m    906\u001b[0m                 \u001b[0mself\u001b[0m\u001b[0;34m.\u001b[0m\u001b[0mlog\u001b[0m\u001b[0;34m.\u001b[0m\u001b[0mwarning\u001b[0m\u001b[0;34m(\u001b[0m\u001b[0;34m\"Invalid Message:\"\u001b[0m\u001b[0;34m,\u001b[0m \u001b[0mexc_info\u001b[0m\u001b[0;34m=\u001b[0m\u001b[0;32mTrue\u001b[0m\u001b[0;34m)\u001b[0m\u001b[0;34m\u001b[0m\u001b[0;34m\u001b[0m\u001b[0m\n",
            "\u001b[0;31mKeyboardInterrupt\u001b[0m: Interrupted by user"
          ]
        }
      ]
    },
    {
      "cell_type": "code",
      "source": [
        "# import sys\n",
        "# sys.setrecursionlimit(10**6)\n",
        "# N = int(input())\n",
        "# def pi(n):\n",
        "#   if n == 1:\n",
        "#     return 1\n",
        "#   elif n == 2:\n",
        "#     return 2\n",
        "#   else:\n",
        "#     return pi(n-1) + pi(n-2)\n",
        "# print(pi(N))"
      ],
      "metadata": {
        "colab": {
          "base_uri": "https://localhost:8080/"
        },
        "id": "apYoT6xIX4zl",
        "outputId": "0b005d33-7379-4aff-c23c-c6579e2e5e2f"
      },
      "execution_count": null,
      "outputs": [
        {
          "output_type": "stream",
          "name": "stdout",
          "text": [
            "25\n",
            "121393\n"
          ]
        }
      ]
    },
    {
      "cell_type": "code",
      "source": [
        "import sys                                    #11726번 완성본(DP)\n",
        "N = int(input())\n",
        "if N == 1:\n",
        "  print(1)\n",
        "elif N == 2:\n",
        "  print(2)\n",
        "else:\n",
        "  L = list(range(1, 1002))\n",
        "  for i in range(2, N):\n",
        "    L[i] = L[i - 1] + L[i - 2]\n",
        "  print(L[N-1] % 10007)"
      ],
      "metadata": {
        "id": "MfnNVxK3fCqi",
        "colab": {
          "base_uri": "https://localhost:8080/"
        },
        "outputId": "89252467-5683-408f-8437-1a07e05ab9d6"
      },
      "execution_count": null,
      "outputs": [
        {
          "output_type": "stream",
          "name": "stdout",
          "text": [
            "23\n",
            "6340\n"
          ]
        }
      ]
    },
    {
      "cell_type": "code",
      "source": [
        "import sys\n",
        "input = sys.stdin.readline\n",
        "\n",
        "n = int(input())\n",
        "print(n)"
      ],
      "metadata": {
        "colab": {
          "base_uri": "https://localhost:8080/",
          "height": 229
        },
        "id": "C1lLPlNhUS0J",
        "outputId": "2c027429-52e6-4b16-aed2-742d7854b753"
      },
      "execution_count": null,
      "outputs": [
        {
          "output_type": "error",
          "ename": "ValueError",
          "evalue": "ignored",
          "traceback": [
            "\u001b[0;31m---------------------------------------------------------------------------\u001b[0m",
            "\u001b[0;31mValueError\u001b[0m                                Traceback (most recent call last)",
            "\u001b[0;32m<ipython-input-20-d65deb42b898>\u001b[0m in \u001b[0;36m<module>\u001b[0;34m\u001b[0m\n\u001b[1;32m      2\u001b[0m \u001b[0minput\u001b[0m \u001b[0;34m=\u001b[0m \u001b[0msys\u001b[0m\u001b[0;34m.\u001b[0m\u001b[0mstdin\u001b[0m\u001b[0;34m.\u001b[0m\u001b[0mreadline\u001b[0m\u001b[0;34m\u001b[0m\u001b[0;34m\u001b[0m\u001b[0m\n\u001b[1;32m      3\u001b[0m \u001b[0;34m\u001b[0m\u001b[0m\n\u001b[0;32m----> 4\u001b[0;31m \u001b[0mn\u001b[0m \u001b[0;34m=\u001b[0m \u001b[0mint\u001b[0m\u001b[0;34m(\u001b[0m\u001b[0minput\u001b[0m\u001b[0;34m(\u001b[0m\u001b[0;34m)\u001b[0m\u001b[0;34m)\u001b[0m\u001b[0;34m\u001b[0m\u001b[0;34m\u001b[0m\u001b[0m\n\u001b[0m\u001b[1;32m      5\u001b[0m \u001b[0mprint\u001b[0m\u001b[0;34m(\u001b[0m\u001b[0mn\u001b[0m\u001b[0;34m)\u001b[0m\u001b[0;34m\u001b[0m\u001b[0;34m\u001b[0m\u001b[0m\n",
            "\u001b[0;31mValueError\u001b[0m: invalid literal for int() with base 10: ''"
          ]
        }
      ]
    },
    {
      "cell_type": "markdown",
      "source": [
        "실수로 방금같이 input과 같은 메소드를 변수로 사용했을때는\n",
        "del <method> 방식으로 사용하여 변수 초기화한다. 그래야 다음 코딩할 때 메소드를 사용할 수 있다.\n",
        "\n",
        "예) input = sys.stdi.readline()\n",
        "  *del input*"
      ],
      "metadata": {
        "id": "xVWgBB1QXuPQ"
      }
    },
    {
      "cell_type": "code",
      "source": [
        "import sys          #완성본 백준 1463번\n",
        "from timeit import default_timer as timer\n",
        "\n",
        "N = int(input())\n",
        "start = timer()\n",
        "dp = [0, 0, 1] + [0] * (N - 2)\n",
        "for i in range(3, N + 1) :\n",
        "  if i % 6 == 0:\n",
        "    dp[i] = min(dp[i // 3] + 1, dp[i // 2] + 1, dp[i-1] + 1)\n",
        "  elif i % 3 == 0:\n",
        "    dp[i] = min(dp[i // 3] + 1, dp[i - 1] + 1)\n",
        "  elif i % 2 == 0:\n",
        "    dp[i] = min(dp[i // 2] + 1, dp[i - 1] + 1)\n",
        "  else:\n",
        "    dp[i] = dp[i-1] + 1\n",
        "print(dp[N])\n",
        "end = timer()\n",
        "print(end - start)"
      ],
      "metadata": {
        "colab": {
          "base_uri": "https://localhost:8080/"
        },
        "id": "SieKiG82Ua7J",
        "outputId": "a8f3f1a9-9b58-4f16-cb49-4077abba272f"
      },
      "execution_count": null,
      "outputs": [
        {
          "output_type": "stream",
          "name": "stdout",
          "text": [
            "1000000\n",
            "19\n",
            "1.1027910569999904\n"
          ]
        }
      ]
    },
    {
      "cell_type": "code",
      "source": [
        "import sys\n",
        "n = int(input())\n",
        "L = [0] * 1001\n",
        "\n",
        "L[1] = 1\n",
        "for i in range(2, n + 1):\n",
        "  if i % 2 == 0:\n",
        "    L[i] = L[i-1] * 2 + 1\n",
        "  else:\n",
        "    L[i] = L[i-1] * 2 - 1\n",
        "print(L[n])"
      ],
      "metadata": {
        "colab": {
          "base_uri": "https://localhost:8080/"
        },
        "id": "ExGdlSEpcriX",
        "outputId": "a90f91a7-b71d-43fe-e78d-fc4e1aa6f268"
      },
      "execution_count": null,
      "outputs": [
        {
          "output_type": "stream",
          "name": "stdout",
          "text": [
            "12\n",
            "2731\n"
          ]
        }
      ]
    },
    {
      "cell_type": "code",
      "source": [
        "import sys\n",
        "L = [0] * 11\n",
        "L[1], L[2], L[3] = 1, 2, 4\n",
        "for _ in range(int(input())):\n",
        "  n = int(input())\n",
        "  if n > 3:\n",
        "    for i in range(4, n + 1):\n",
        "      L[i] = L[i-1] + L[i-2] + L[i-3]\n",
        "  print(L[n])"
      ],
      "metadata": {
        "colab": {
          "base_uri": "https://localhost:8080/"
        },
        "id": "WRHGGal4VjK_",
        "outputId": "ed2f5ed0-e4f9-443b-840f-ab89ead29520"
      },
      "execution_count": null,
      "outputs": [
        {
          "output_type": "stream",
          "name": "stdout",
          "text": [
            "3\n",
            "4\n",
            "7\n",
            "7\n",
            "44\n",
            "10\n",
            "274\n"
          ]
        }
      ]
    },
    {
      "cell_type": "code",
      "source": [
        "for i in range(int(input())):\n",
        "  N = int(input())\n",
        "  def three(n):\n",
        "    if n > 3:\n",
        "      return three(n-1) + three(n-2) + three(n-3)\n",
        "    elif n == 2:\n",
        "      return 2\n",
        "    elif n == 1:\n",
        "      return 1\n",
        "    elif n == 3:\n",
        "      return 4\n",
        "  print(three(N))"
      ],
      "metadata": {
        "colab": {
          "base_uri": "https://localhost:8080/"
        },
        "id": "edu2Zi7GXmIn",
        "outputId": "111395d2-d286-4116-d04d-cc724dade1c9"
      },
      "execution_count": null,
      "outputs": [
        {
          "output_type": "stream",
          "name": "stdout",
          "text": [
            "3\n",
            "4\n",
            "7\n",
            "7\n",
            "44\n",
            "10\n",
            "274\n"
          ]
        }
      ]
    },
    {
      "cell_type": "code",
      "source": [
        "import sys        #미완성본 11052번\n",
        "n = int(input())\n",
        "x = str(input())\n",
        "L = x.split()\n",
        "for i in range(len(L)):\n",
        "  L[i] = int(L[i])\n",
        "while n != 0:\n",
        "  for i in range(len(L)-1):\n",
        "    if (L[i] * (i + 2)) > (L[i+1] * (i + 1)):\n"
      ],
      "metadata": {
        "colab": {
          "base_uri": "https://localhost:8080/"
        },
        "id": "1RghPnXBYGbn",
        "outputId": "5b0bf09f-ffef-430b-f511-7ce5bcb3709a"
      },
      "execution_count": null,
      "outputs": [
        {
          "output_type": "stream",
          "name": "stdout",
          "text": [
            "4\n",
            "1 5 6 7\n",
            "[<map object at 0x7f6132ad7310>]\n"
          ]
        }
      ]
    },
    {
      "cell_type": "code",
      "source": [
        "import sys\n",
        "N = int(input())\n",
        "if N == 1:\n",
        "  print(1)\n",
        "elif N == 2:\n",
        "  print(1)\n",
        "else:\n",
        "  L = [1] * 91\n",
        "  for i in range(2, N):\n",
        "    L[i] = L[i - 1] + L[i - 2]\n",
        "  print(L[N-1])"
      ],
      "metadata": {
        "id": "mefGe0tXmWSZ"
      },
      "execution_count": null,
      "outputs": []
    },
    {
      "cell_type": "code",
      "source": [
        "from math import sqrt     #미완성본\n",
        "import sys\n",
        "n = int(input())\n",
        "t = n\n",
        "count = 0\n",
        "while n != 0:\n",
        "  if int(sqrt(t)) == sqrt(t):\n",
        "    n -= t\n",
        "    print(t)\n",
        "    t = n\n",
        "    count += 1\n",
        "  else:\n",
        "    t -= 1\n",
        "print(count)"
      ],
      "metadata": {
        "colab": {
          "base_uri": "https://localhost:8080/"
        },
        "id": "u2JTQxSDn1wk",
        "outputId": "ddcea19f-37c6-4517-bb49-887946ca9335"
      },
      "execution_count": null,
      "outputs": [
        {
          "output_type": "stream",
          "name": "stdout",
          "text": [
            "18\n",
            "16\n",
            "1\n",
            "1\n",
            "3\n"
          ]
        }
      ]
    },
    {
      "cell_type": "code",
      "source": [
        "import sys\n",
        "a = int(input())\n",
        "x = str(input())\n",
        "b = x.split()\n",
        "for i in range(len(b)):\n",
        "  b[i] = int(b[i])\n",
        "b.sort()\n",
        "print(b[0] * b[-1])"
      ],
      "metadata": {
        "colab": {
          "base_uri": "https://localhost:8080/"
        },
        "id": "8AiPd531p57G",
        "outputId": "59f5f428-a179-4be4-a09a-3088bb45daf2"
      },
      "execution_count": null,
      "outputs": [
        {
          "output_type": "stream",
          "name": "stdout",
          "text": [
            "14\n",
            "14 26456 2 28 13228 3307 7 23149 8 6614 46298 56 4 92596\n",
            "185192\n"
          ]
        }
      ]
    },
    {
      "cell_type": "code",
      "source": [
        "import sys          #미완성본 17427번, 17425번\n",
        "a = int(input())\n",
        "total = int(a * (a + 1) / 2) + a - 1\n",
        "for i in range(3 , a + 1):\n",
        "  for j in range(2, int(i/2)+1):\n",
        "    if i % j == 0:\n",
        "        total += j\n",
        "print(total)"
      ],
      "metadata": {
        "colab": {
          "base_uri": "https://localhost:8080/"
        },
        "id": "5XyeMm3-thQM",
        "outputId": "5a73efbe-5408-4078-bac9-5ad979d70157"
      },
      "execution_count": null,
      "outputs": [
        {
          "output_type": "stream",
          "name": "stdout",
          "text": [
            "10000\n",
            "82256014\n"
          ]
        }
      ]
    },
    {
      "cell_type": "code",
      "source": [
        "import sys      #완성본 17427번\n",
        "a = int(input())\n",
        "total = 0\n",
        "for i in range(1, a+1):\n",
        "  total = total + i * (a // i)\n",
        "print(total) "
      ],
      "metadata": {
        "colab": {
          "base_uri": "https://localhost:8080/"
        },
        "id": "5m7m3PpVranh",
        "outputId": "5e5b6c6b-9904-4e87-f866-b45d8370dc39"
      },
      "execution_count": null,
      "outputs": [
        {
          "output_type": "stream",
          "name": "stdout",
          "text": [
            "10000\n",
            "82256014\n"
          ]
        }
      ]
    },
    {
      "cell_type": "code",
      "source": [
        "import sys\n",
        "for _ in range(int(input())):\n",
        "  N = int(input())\n",
        "  total = 0\n",
        "  for i in range(1, N + 1):\n",
        "    total += (i * (N // i))\n",
        "  print(total)"
      ],
      "metadata": {
        "colab": {
          "base_uri": "https://localhost:8080/"
        },
        "id": "Ibhd47WhuTJi",
        "outputId": "6ad84f49-8d2c-4680-efe6-196af3399ef2"
      },
      "execution_count": null,
      "outputs": [
        {
          "output_type": "stream",
          "name": "stdout",
          "text": [
            "5\n",
            "1\n",
            "1\n",
            "2\n",
            "4\n",
            "10\n",
            "87\n",
            "70\n",
            "4065\n",
            "10000\n",
            "82256014\n"
          ]
        }
      ]
    },
    {
      "cell_type": "code",
      "source": [
        "import sys\n",
        "\n",
        "Max = 1000000\n",
        "\n",
        "L = [0] * (Max + 1)\n",
        "M = [0] * (Max + 1)\n",
        "\n",
        "for i in range(1, Max+1):\n",
        "    k = 1\n",
        "    while i * k <= Max:\n",
        "        L[i * k] += i\n",
        "        k += 1\n",
        "    M[i] = M[i - 1] + L[i]\n",
        "    \n",
        "for _ in range(int(input())):\n",
        "  N = int(input())\n",
        "  print(M[N])"
      ],
      "metadata": {
        "colab": {
          "base_uri": "https://localhost:8080/"
        },
        "id": "NNVB0xRWw3-y",
        "outputId": "207312a6-cee1-468b-b800-65cde4b0a9d0"
      },
      "execution_count": null,
      "outputs": [
        {
          "output_type": "stream",
          "name": "stdout",
          "text": [
            "3\n",
            "10\n",
            "87\n",
            "70\n",
            "4065\n",
            "10000\n",
            "82256014\n"
          ]
        }
      ]
    },
    {
      "cell_type": "code",
      "source": [
        "import sys\n",
        "a, b = map(int,input().split())\n",
        "A, B = a, b\n",
        "while a % b != 0 and b % a != 0:\n",
        "  if a > b:\n",
        "    temp = a - b\n",
        "    a = temp\n",
        "  else:\n",
        "    temp = b - a\n",
        "    b = temp\n",
        "print(min(a, b))\n",
        "print(A * B // min(a,b))"
      ],
      "metadata": {
        "colab": {
          "base_uri": "https://localhost:8080/"
        },
        "id": "B-mf2E_BjPHY",
        "outputId": "daec4b68-3f59-4200-87e6-ae3aa1d50488"
      },
      "execution_count": null,
      "outputs": [
        {
          "output_type": "stream",
          "name": "stdout",
          "text": [
            "24 18\n",
            "6\n",
            "72\n"
          ]
        }
      ]
    },
    {
      "cell_type": "code",
      "source": [
        "import sys\n",
        "from math import sqrt\n",
        "n = int(input())\n",
        "x = str(input())\n",
        "L = x.split()\n",
        "count = 0\n",
        "for i in range(n):\n",
        "  L[i] = int(L[i])\n",
        "for j in range(n):\n",
        "  t = 0\n",
        "  if L[j] > 3:\n",
        "    for k in range(2,int(sqrt(L[j])) + 1):\n",
        "      if L[j] % k == 0:\n",
        "        t = 1\n",
        "        break\n",
        "  elif L[j] == 1:\n",
        "    t = 1\n",
        "  if t == 0:\n",
        "    count += 1\n",
        "print(count)"
      ],
      "metadata": {
        "colab": {
          "base_uri": "https://localhost:8080/"
        },
        "id": "0CV91pqjk240",
        "outputId": "8cbc020a-875c-4486-f634-47fe297ce6ff"
      },
      "execution_count": null,
      "outputs": [
        {
          "name": "stdout",
          "output_type": "stream",
          "text": [
            "10\n",
            "3 4 5 6 7 8 9 10 11 12\n"
          ]
        }
      ]
    },
    {
      "cell_type": "code",
      "source": [
        "import sys\n",
        "from math import sqrt\n",
        "a, b = map(int, input().split())\n",
        "for i in range(a, b+1):\n",
        "  t = 0\n",
        "  if i == 1:\n",
        "    t = 1\n",
        "  for j in range(2, int(sqrt(i))+1):\n",
        "    if i % j == 0:\n",
        "      t += 1\n",
        "      break\n",
        "  if t == 0:\n",
        "    print(i)"
      ],
      "metadata": {
        "colab": {
          "base_uri": "https://localhost:8080/"
        },
        "id": "2Cn_rDmRnZjR",
        "outputId": "70964808-e5e2-4160-e555-64e2fe78a52a"
      },
      "execution_count": null,
      "outputs": [
        {
          "output_type": "stream",
          "name": "stdout",
          "text": [
            "3 13\n",
            "3\n",
            "5\n",
            "7\n",
            "11\n",
            "13\n"
          ]
        }
      ]
    },
    {
      "cell_type": "code",
      "source": [
        "import sys\n",
        "from math import sqrt\n",
        "while True:\n",
        "  n = int(input())\n",
        "  a, b = 3, 0\n",
        "  if n == 0:\n",
        "    break\n",
        "  while a + b != n:\n",
        "    t = 0\n",
        "    for j in range(2, int(sqrt(a))+1):\n",
        "      if a % j == 0:\n",
        "        t += 1\n",
        "        break\n",
        "    if t == 0:\n",
        "      b = n - a\n",
        "    for k in range(2, int(sqrt(b))+1):\n",
        "      if b % k == 0:\n",
        "        t += 1\n",
        "        a += 2\n",
        "        break\n",
        "  print('%d = %d + %d' %(n, a, b))"
      ],
      "metadata": {
        "colab": {
          "base_uri": "https://localhost:8080/",
          "height": 546
        },
        "id": "AxVx34yXoKFD",
        "outputId": "a818cd33-2ddd-4018-bf94-356c452fac81"
      },
      "execution_count": null,
      "outputs": [
        {
          "output_type": "stream",
          "name": "stdout",
          "text": [
            "8\n",
            "8 = 3 + 5\n",
            "14\n",
            "14 = 3 + 11\n",
            "100000\n",
            "100000 = 11 + 99989\n"
          ]
        },
        {
          "output_type": "error",
          "ename": "KeyboardInterrupt",
          "evalue": "ignored",
          "traceback": [
            "\u001b[0;31m---------------------------------------------------------------------------\u001b[0m",
            "\u001b[0;31mKeyboardInterrupt\u001b[0m                         Traceback (most recent call last)",
            "\u001b[0;32m<ipython-input-60-05515fdbf6cb>\u001b[0m in \u001b[0;36m<module>\u001b[0;34m\u001b[0m\n\u001b[1;32m      2\u001b[0m \u001b[0;32mfrom\u001b[0m \u001b[0mmath\u001b[0m \u001b[0;32mimport\u001b[0m \u001b[0msqrt\u001b[0m\u001b[0;34m\u001b[0m\u001b[0;34m\u001b[0m\u001b[0m\n\u001b[1;32m      3\u001b[0m \u001b[0;32mwhile\u001b[0m \u001b[0;32mTrue\u001b[0m\u001b[0;34m:\u001b[0m\u001b[0;34m\u001b[0m\u001b[0;34m\u001b[0m\u001b[0m\n\u001b[0;32m----> 4\u001b[0;31m   \u001b[0mn\u001b[0m \u001b[0;34m=\u001b[0m \u001b[0mint\u001b[0m\u001b[0;34m(\u001b[0m\u001b[0minput\u001b[0m\u001b[0;34m(\u001b[0m\u001b[0;34m)\u001b[0m\u001b[0;34m)\u001b[0m\u001b[0;34m\u001b[0m\u001b[0;34m\u001b[0m\u001b[0m\n\u001b[0m\u001b[1;32m      5\u001b[0m   \u001b[0ma\u001b[0m\u001b[0;34m,\u001b[0m \u001b[0mb\u001b[0m \u001b[0;34m=\u001b[0m \u001b[0;36m3\u001b[0m\u001b[0;34m,\u001b[0m \u001b[0;36m0\u001b[0m\u001b[0;34m\u001b[0m\u001b[0;34m\u001b[0m\u001b[0m\n\u001b[1;32m      6\u001b[0m   \u001b[0;32mif\u001b[0m \u001b[0mn\u001b[0m \u001b[0;34m==\u001b[0m \u001b[0;36m0\u001b[0m\u001b[0;34m:\u001b[0m\u001b[0;34m\u001b[0m\u001b[0;34m\u001b[0m\u001b[0m\n",
            "\u001b[0;32m/usr/local/lib/python3.7/dist-packages/ipykernel/kernelbase.py\u001b[0m in \u001b[0;36mraw_input\u001b[0;34m(self, prompt)\u001b[0m\n\u001b[1;32m    861\u001b[0m             \u001b[0mself\u001b[0m\u001b[0;34m.\u001b[0m\u001b[0m_parent_ident\u001b[0m\u001b[0;34m,\u001b[0m\u001b[0;34m\u001b[0m\u001b[0;34m\u001b[0m\u001b[0m\n\u001b[1;32m    862\u001b[0m             \u001b[0mself\u001b[0m\u001b[0;34m.\u001b[0m\u001b[0m_parent_header\u001b[0m\u001b[0;34m,\u001b[0m\u001b[0;34m\u001b[0m\u001b[0;34m\u001b[0m\u001b[0m\n\u001b[0;32m--> 863\u001b[0;31m             \u001b[0mpassword\u001b[0m\u001b[0;34m=\u001b[0m\u001b[0;32mFalse\u001b[0m\u001b[0;34m,\u001b[0m\u001b[0;34m\u001b[0m\u001b[0;34m\u001b[0m\u001b[0m\n\u001b[0m\u001b[1;32m    864\u001b[0m         )\n\u001b[1;32m    865\u001b[0m \u001b[0;34m\u001b[0m\u001b[0m\n",
            "\u001b[0;32m/usr/local/lib/python3.7/dist-packages/ipykernel/kernelbase.py\u001b[0m in \u001b[0;36m_input_request\u001b[0;34m(self, prompt, ident, parent, password)\u001b[0m\n\u001b[1;32m    902\u001b[0m             \u001b[0;32mexcept\u001b[0m \u001b[0mKeyboardInterrupt\u001b[0m\u001b[0;34m:\u001b[0m\u001b[0;34m\u001b[0m\u001b[0;34m\u001b[0m\u001b[0m\n\u001b[1;32m    903\u001b[0m                 \u001b[0;31m# re-raise KeyboardInterrupt, to truncate traceback\u001b[0m\u001b[0;34m\u001b[0m\u001b[0;34m\u001b[0m\u001b[0;34m\u001b[0m\u001b[0m\n\u001b[0;32m--> 904\u001b[0;31m                 \u001b[0;32mraise\u001b[0m \u001b[0mKeyboardInterrupt\u001b[0m\u001b[0;34m(\u001b[0m\u001b[0;34m\"Interrupted by user\"\u001b[0m\u001b[0;34m)\u001b[0m \u001b[0;32mfrom\u001b[0m \u001b[0;32mNone\u001b[0m\u001b[0;34m\u001b[0m\u001b[0;34m\u001b[0m\u001b[0m\n\u001b[0m\u001b[1;32m    905\u001b[0m             \u001b[0;32mexcept\u001b[0m \u001b[0mException\u001b[0m \u001b[0;32mas\u001b[0m \u001b[0me\u001b[0m\u001b[0;34m:\u001b[0m\u001b[0;34m\u001b[0m\u001b[0;34m\u001b[0m\u001b[0m\n\u001b[1;32m    906\u001b[0m                 \u001b[0mself\u001b[0m\u001b[0;34m.\u001b[0m\u001b[0mlog\u001b[0m\u001b[0;34m.\u001b[0m\u001b[0mwarning\u001b[0m\u001b[0;34m(\u001b[0m\u001b[0;34m\"Invalid Message:\"\u001b[0m\u001b[0;34m,\u001b[0m \u001b[0mexc_info\u001b[0m\u001b[0;34m=\u001b[0m\u001b[0;32mTrue\u001b[0m\u001b[0;34m)\u001b[0m\u001b[0;34m\u001b[0m\u001b[0;34m\u001b[0m\u001b[0m\n",
            "\u001b[0;31mKeyboardInterrupt\u001b[0m: Interrupted by user"
          ]
        }
      ]
    },
    {
      "cell_type": "code",
      "source": [
        "import sys\n",
        "L = []\n",
        "for _ in range(9):\n",
        "  L.append(int(input()))\n",
        "s = sum(L) - 100\n",
        "for i in range(9):\n",
        "  if L.count(s - L[i]) == 1 and L[i] != s - L[i]:\n",
        "    t = L[i]\n",
        "    L.remove(t)\n",
        "    L.remove(s - t)\n",
        "    L.sort()\n",
        "    break\n",
        "for j in range(7):\n",
        "  print(L[j])"
      ],
      "metadata": {
        "colab": {
          "base_uri": "https://localhost:8080/"
        },
        "id": "PXOKezm70XZA",
        "outputId": "cbf88618-b444-42a9-f634-f13fd2e0209c"
      },
      "execution_count": null,
      "outputs": [
        {
          "output_type": "stream",
          "name": "stdout",
          "text": [
            "20\n",
            "7\n",
            "23\n",
            "19\n",
            "10\n",
            "15\n",
            "25\n",
            "8\n",
            "13\n",
            "7\n",
            "8\n",
            "10\n",
            "13\n",
            "19\n",
            "20\n",
            "23\n"
          ]
        }
      ]
    },
    {
      "cell_type": "code",
      "source": [
        "import sys        #완성본 1476번 (해결책이 떠오름)\n",
        "a, b, c = map(int, input().split())\n",
        "A, B, C = a, b, c\n",
        "while True:\n",
        "  if A == B == C:\n",
        "    print(A)\n",
        "    break\n",
        "  if A > 7980 :\n",
        "    print(-1)\n",
        "    break\n",
        "  if A - b < 0 :\n",
        "    A += 15\n",
        "  if (A - b) % 28 == 0:\n",
        "    if (A - c) % 19 == 0:\n",
        "      print(A)\n",
        "      break\n",
        "    else:\n",
        "      A += 15\n",
        "  else:\n",
        "    A += 15"
      ],
      "metadata": {
        "id": "pVzJLkGB4lLD",
        "colab": {
          "base_uri": "https://localhost:8080/"
        },
        "outputId": "1241bdd0-7a4b-49f9-9f8b-612738dc9221"
      },
      "execution_count": null,
      "outputs": [
        {
          "output_type": "stream",
          "name": "stdout",
          "text": [
            "1 16 16\n",
            "16\n"
          ]
        }
      ]
    },
    {
      "cell_type": "code",
      "source": [
        "import sys        #미완성본 1107번\n",
        "t = str(input())\n",
        "x = str(input())\n",
        "n = int(input())\n",
        "M = x.split()\n",
        "for i in range(len(t)):\n",
        "  if M.count(t[i]) == 1:"
      ],
      "metadata": {
        "colab": {
          "base_uri": "https://localhost:8080/"
        },
        "id": "OZwPzWfMDpKV",
        "outputId": "d09c886c-c859-4ee9-805f-9f9c9b151f29"
      },
      "execution_count": null,
      "outputs": [
        {
          "output_type": "stream",
          "name": "stdout",
          "text": [
            "5457\n",
            "6 7 8\n",
            "['5457'] ['6', '7', '8']\n"
          ]
        }
      ]
    },
    {
      "cell_type": "code",
      "source": [
        "import sys        #완성본 1476번 (해결책이 떠오름)\n",
        "from math import gcd\n",
        "for i in range(int(input())):\n",
        "  m, n, a, b = map(int, input().split())\n",
        "  A, B = a, b\n",
        "  while True:\n",
        "    if A == B:\n",
        "      print(A)\n",
        "      break\n",
        "    if A > m * n // gcd(m, n):\n",
        "      print(-1)\n",
        "      break\n",
        "    if A - b < 0:\n",
        "      A += m\n",
        "    if (A - b) % n == 0:\n",
        "      print(A)\n",
        "      break\n",
        "    else:\n",
        "      A += m"
      ],
      "metadata": {
        "colab": {
          "base_uri": "https://localhost:8080/"
        },
        "id": "eyjtuqTVFE2M",
        "outputId": "0156f41b-e03f-4a36-9dcf-058a2a370afe"
      },
      "execution_count": null,
      "outputs": [
        {
          "output_type": "stream",
          "name": "stdout",
          "text": [
            "3\n",
            "10 32 12 1\n",
            "-1\n",
            "23 12 1 1\n",
            "1\n",
            "23 13 12 21\n",
            "242\n"
          ]
        }
      ]
    },
    {
      "cell_type": "code",
      "source": [
        "import sys\n",
        "n = int(input())\n",
        "total = 0\n",
        "for i in range(1, 10):\n",
        "  if n > (10 * i):\n",
        "    \n",
        "print(len(t))"
      ],
      "metadata": {
        "colab": {
          "base_uri": "https://localhost:8080/"
        },
        "id": "UYIAylB0Mr0X",
        "outputId": "d2852b2b-2e41-457d-80e8-e624c58b06f8"
      },
      "execution_count": null,
      "outputs": [
        {
          "output_type": "stream",
          "name": "stdout",
          "text": [
            "21\n",
            "31\n"
          ]
        }
      ]
    },
    {
      "cell_type": "code",
      "source": [],
      "metadata": {
        "id": "5e8pSAR0NAFW"
      },
      "execution_count": null,
      "outputs": []
    }
  ]
}